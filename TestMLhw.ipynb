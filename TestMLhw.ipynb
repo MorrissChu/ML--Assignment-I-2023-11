{
 "cells": [
  {
   "cell_type": "markdown",
   "metadata": {},
   "source": [
    " # Classification Task:\n",
    " Implement the following algorithms manually, without relying on libraries like scikit-learn.\n",
    "After implementation, compare the performance of these classifiers."
   ]
  },
  {
   "cell_type": "code",
   "execution_count": 229,
   "metadata": {},
   "outputs": [],
   "source": [
    "import matplotlib.pyplot as plt\n",
    "import pandas as pd\n",
    "import os\n",
    "import numpy as np\n",
    "from sklearn.preprocessing import StandardScaler\n",
    "from sklearn.model_selection import train_test_split\n",
    "import random as rd\n",
    "import math as m\n",
    "import collections\n",
    "from time import sleep\n",
    "from tqdm import tqdm, trange\n",
    "from sklearn.metrics import accuracy_score\n",
    "import time\n",
    "import random as rd"
   ]
  },
  {
   "cell_type": "markdown",
   "metadata": {},
   "source": [
    "### EDA\n",
    "該數據集包含有關保單持有人的信息，例如保單持有時間、汽車年齡、汽車擁有者年齡、城市人口密度、汽車的製造和型號、功率、引擎類型等，以及目標變量，指出汽車保單持有人是否在接下來的6個月內會提出索賠。"
   ]
  },
  {
   "cell_type": "markdown",
   "metadata": {},
   "source": [
    "1. 利用pandas輸入csv檔案並且建立成data frame格式，並且查看前五筆資料形式"
   ]
  },
  {
   "cell_type": "code",
   "execution_count": 230,
   "metadata": {},
   "outputs": [
    {
     "data": {
      "text/html": [
       "<div>\n",
       "<style scoped>\n",
       "    .dataframe tbody tr th:only-of-type {\n",
       "        vertical-align: middle;\n",
       "    }\n",
       "\n",
       "    .dataframe tbody tr th {\n",
       "        vertical-align: top;\n",
       "    }\n",
       "\n",
       "    .dataframe thead th {\n",
       "        text-align: right;\n",
       "    }\n",
       "</style>\n",
       "<table border=\"1\" class=\"dataframe\">\n",
       "  <thead>\n",
       "    <tr style=\"text-align: right;\">\n",
       "      <th></th>\n",
       "      <th>policy_id</th>\n",
       "      <th>policy_tenure</th>\n",
       "      <th>age_of_car</th>\n",
       "      <th>age_of_policyholder</th>\n",
       "      <th>area_cluster</th>\n",
       "      <th>population_density</th>\n",
       "      <th>make</th>\n",
       "      <th>segment</th>\n",
       "      <th>model</th>\n",
       "      <th>fuel_type</th>\n",
       "      <th>...</th>\n",
       "      <th>is_brake_assist</th>\n",
       "      <th>is_power_door_locks</th>\n",
       "      <th>is_central_locking</th>\n",
       "      <th>is_power_steering</th>\n",
       "      <th>is_driver_seat_height_adjustable</th>\n",
       "      <th>is_day_night_rear_view_mirror</th>\n",
       "      <th>is_ecw</th>\n",
       "      <th>is_speed_alert</th>\n",
       "      <th>ncap_rating</th>\n",
       "      <th>is_claim</th>\n",
       "    </tr>\n",
       "  </thead>\n",
       "  <tbody>\n",
       "    <tr>\n",
       "      <th>0</th>\n",
       "      <td>ID00001</td>\n",
       "      <td>0.515874</td>\n",
       "      <td>0.05</td>\n",
       "      <td>0.644231</td>\n",
       "      <td>C1</td>\n",
       "      <td>4990</td>\n",
       "      <td>1</td>\n",
       "      <td>A</td>\n",
       "      <td>M1</td>\n",
       "      <td>CNG</td>\n",
       "      <td>...</td>\n",
       "      <td>No</td>\n",
       "      <td>No</td>\n",
       "      <td>No</td>\n",
       "      <td>Yes</td>\n",
       "      <td>No</td>\n",
       "      <td>No</td>\n",
       "      <td>No</td>\n",
       "      <td>Yes</td>\n",
       "      <td>0</td>\n",
       "      <td>0</td>\n",
       "    </tr>\n",
       "    <tr>\n",
       "      <th>1</th>\n",
       "      <td>ID00002</td>\n",
       "      <td>0.672619</td>\n",
       "      <td>0.02</td>\n",
       "      <td>0.375000</td>\n",
       "      <td>C2</td>\n",
       "      <td>27003</td>\n",
       "      <td>1</td>\n",
       "      <td>A</td>\n",
       "      <td>M1</td>\n",
       "      <td>CNG</td>\n",
       "      <td>...</td>\n",
       "      <td>No</td>\n",
       "      <td>No</td>\n",
       "      <td>No</td>\n",
       "      <td>Yes</td>\n",
       "      <td>No</td>\n",
       "      <td>No</td>\n",
       "      <td>No</td>\n",
       "      <td>Yes</td>\n",
       "      <td>0</td>\n",
       "      <td>0</td>\n",
       "    </tr>\n",
       "    <tr>\n",
       "      <th>2</th>\n",
       "      <td>ID00003</td>\n",
       "      <td>0.841110</td>\n",
       "      <td>0.02</td>\n",
       "      <td>0.384615</td>\n",
       "      <td>C3</td>\n",
       "      <td>4076</td>\n",
       "      <td>1</td>\n",
       "      <td>A</td>\n",
       "      <td>M1</td>\n",
       "      <td>CNG</td>\n",
       "      <td>...</td>\n",
       "      <td>No</td>\n",
       "      <td>No</td>\n",
       "      <td>No</td>\n",
       "      <td>Yes</td>\n",
       "      <td>No</td>\n",
       "      <td>No</td>\n",
       "      <td>No</td>\n",
       "      <td>Yes</td>\n",
       "      <td>0</td>\n",
       "      <td>0</td>\n",
       "    </tr>\n",
       "    <tr>\n",
       "      <th>3</th>\n",
       "      <td>ID00004</td>\n",
       "      <td>0.900277</td>\n",
       "      <td>0.11</td>\n",
       "      <td>0.432692</td>\n",
       "      <td>C4</td>\n",
       "      <td>21622</td>\n",
       "      <td>1</td>\n",
       "      <td>C1</td>\n",
       "      <td>M2</td>\n",
       "      <td>Petrol</td>\n",
       "      <td>...</td>\n",
       "      <td>Yes</td>\n",
       "      <td>Yes</td>\n",
       "      <td>Yes</td>\n",
       "      <td>Yes</td>\n",
       "      <td>Yes</td>\n",
       "      <td>Yes</td>\n",
       "      <td>Yes</td>\n",
       "      <td>Yes</td>\n",
       "      <td>2</td>\n",
       "      <td>0</td>\n",
       "    </tr>\n",
       "    <tr>\n",
       "      <th>4</th>\n",
       "      <td>ID00005</td>\n",
       "      <td>0.596403</td>\n",
       "      <td>0.11</td>\n",
       "      <td>0.634615</td>\n",
       "      <td>C5</td>\n",
       "      <td>34738</td>\n",
       "      <td>2</td>\n",
       "      <td>A</td>\n",
       "      <td>M3</td>\n",
       "      <td>Petrol</td>\n",
       "      <td>...</td>\n",
       "      <td>No</td>\n",
       "      <td>Yes</td>\n",
       "      <td>Yes</td>\n",
       "      <td>Yes</td>\n",
       "      <td>No</td>\n",
       "      <td>Yes</td>\n",
       "      <td>Yes</td>\n",
       "      <td>Yes</td>\n",
       "      <td>2</td>\n",
       "      <td>0</td>\n",
       "    </tr>\n",
       "  </tbody>\n",
       "</table>\n",
       "<p>5 rows × 44 columns</p>\n",
       "</div>"
      ],
      "text/plain": [
       "  policy_id  policy_tenure  age_of_car  age_of_policyholder area_cluster  \\\n",
       "0   ID00001       0.515874        0.05             0.644231           C1   \n",
       "1   ID00002       0.672619        0.02             0.375000           C2   \n",
       "2   ID00003       0.841110        0.02             0.384615           C3   \n",
       "3   ID00004       0.900277        0.11             0.432692           C4   \n",
       "4   ID00005       0.596403        0.11             0.634615           C5   \n",
       "\n",
       "   population_density  make segment model fuel_type  ... is_brake_assist  \\\n",
       "0                4990     1       A    M1       CNG  ...              No   \n",
       "1               27003     1       A    M1       CNG  ...              No   \n",
       "2                4076     1       A    M1       CNG  ...              No   \n",
       "3               21622     1      C1    M2    Petrol  ...             Yes   \n",
       "4               34738     2       A    M3    Petrol  ...              No   \n",
       "\n",
       "  is_power_door_locks is_central_locking  is_power_steering  \\\n",
       "0                  No                 No                Yes   \n",
       "1                  No                 No                Yes   \n",
       "2                  No                 No                Yes   \n",
       "3                 Yes                Yes                Yes   \n",
       "4                 Yes                Yes                Yes   \n",
       "\n",
       "  is_driver_seat_height_adjustable is_day_night_rear_view_mirror is_ecw  \\\n",
       "0                               No                            No     No   \n",
       "1                               No                            No     No   \n",
       "2                               No                            No     No   \n",
       "3                              Yes                           Yes    Yes   \n",
       "4                               No                           Yes    Yes   \n",
       "\n",
       "  is_speed_alert ncap_rating is_claim  \n",
       "0            Yes           0        0  \n",
       "1            Yes           0        0  \n",
       "2            Yes           0        0  \n",
       "3            Yes           2        0  \n",
       "4            Yes           2        0  \n",
       "\n",
       "[5 rows x 44 columns]"
      ]
     },
     "execution_count": 230,
     "metadata": {},
     "output_type": "execute_result"
    }
   ],
   "source": [
    "train_csv = pd.read_csv(\"/Users/zhuxinrong/Desktop/ML/Dataset/train.csv\")\n",
    "train_csv.head(5)"
   ]
  },
  {
   "cell_type": "markdown",
   "metadata": {},
   "source": [
    "2. 查看數值型資料的敘述統計結果(可以得知資料總筆數為58592筆)"
   ]
  },
  {
   "cell_type": "code",
   "execution_count": 231,
   "metadata": {},
   "outputs": [
    {
     "data": {
      "text/html": [
       "<div>\n",
       "<style scoped>\n",
       "    .dataframe tbody tr th:only-of-type {\n",
       "        vertical-align: middle;\n",
       "    }\n",
       "\n",
       "    .dataframe tbody tr th {\n",
       "        vertical-align: top;\n",
       "    }\n",
       "\n",
       "    .dataframe thead th {\n",
       "        text-align: right;\n",
       "    }\n",
       "</style>\n",
       "<table border=\"1\" class=\"dataframe\">\n",
       "  <thead>\n",
       "    <tr style=\"text-align: right;\">\n",
       "      <th></th>\n",
       "      <th>policy_tenure</th>\n",
       "      <th>age_of_car</th>\n",
       "      <th>age_of_policyholder</th>\n",
       "      <th>population_density</th>\n",
       "      <th>make</th>\n",
       "      <th>airbags</th>\n",
       "      <th>displacement</th>\n",
       "      <th>cylinder</th>\n",
       "      <th>gear_box</th>\n",
       "      <th>turning_radius</th>\n",
       "      <th>length</th>\n",
       "      <th>width</th>\n",
       "      <th>height</th>\n",
       "      <th>gross_weight</th>\n",
       "      <th>ncap_rating</th>\n",
       "      <th>is_claim</th>\n",
       "    </tr>\n",
       "  </thead>\n",
       "  <tbody>\n",
       "    <tr>\n",
       "      <th>count</th>\n",
       "      <td>58592.000000</td>\n",
       "      <td>58592.000000</td>\n",
       "      <td>58592.000000</td>\n",
       "      <td>58592.000000</td>\n",
       "      <td>58592.000000</td>\n",
       "      <td>58592.000000</td>\n",
       "      <td>58592.000000</td>\n",
       "      <td>58592.000000</td>\n",
       "      <td>58592.000000</td>\n",
       "      <td>58592.000000</td>\n",
       "      <td>58592.000000</td>\n",
       "      <td>58592.000000</td>\n",
       "      <td>58592.00000</td>\n",
       "      <td>58592.000000</td>\n",
       "      <td>58592.000000</td>\n",
       "      <td>58592.000000</td>\n",
       "    </tr>\n",
       "    <tr>\n",
       "      <th>mean</th>\n",
       "      <td>0.611246</td>\n",
       "      <td>0.069424</td>\n",
       "      <td>0.469420</td>\n",
       "      <td>18826.858667</td>\n",
       "      <td>1.763722</td>\n",
       "      <td>3.137066</td>\n",
       "      <td>1162.355851</td>\n",
       "      <td>3.626963</td>\n",
       "      <td>5.245443</td>\n",
       "      <td>4.852893</td>\n",
       "      <td>3850.476891</td>\n",
       "      <td>1672.233667</td>\n",
       "      <td>1553.33537</td>\n",
       "      <td>1385.276813</td>\n",
       "      <td>1.759950</td>\n",
       "      <td>0.063968</td>\n",
       "    </tr>\n",
       "    <tr>\n",
       "      <th>std</th>\n",
       "      <td>0.414156</td>\n",
       "      <td>0.056721</td>\n",
       "      <td>0.122886</td>\n",
       "      <td>17660.174792</td>\n",
       "      <td>1.136988</td>\n",
       "      <td>1.832641</td>\n",
       "      <td>266.304786</td>\n",
       "      <td>0.483616</td>\n",
       "      <td>0.430353</td>\n",
       "      <td>0.228061</td>\n",
       "      <td>311.457119</td>\n",
       "      <td>112.089135</td>\n",
       "      <td>79.62227</td>\n",
       "      <td>212.423085</td>\n",
       "      <td>1.389576</td>\n",
       "      <td>0.244698</td>\n",
       "    </tr>\n",
       "    <tr>\n",
       "      <th>min</th>\n",
       "      <td>0.002735</td>\n",
       "      <td>0.000000</td>\n",
       "      <td>0.288462</td>\n",
       "      <td>290.000000</td>\n",
       "      <td>1.000000</td>\n",
       "      <td>1.000000</td>\n",
       "      <td>796.000000</td>\n",
       "      <td>3.000000</td>\n",
       "      <td>5.000000</td>\n",
       "      <td>4.500000</td>\n",
       "      <td>3445.000000</td>\n",
       "      <td>1475.000000</td>\n",
       "      <td>1475.00000</td>\n",
       "      <td>1051.000000</td>\n",
       "      <td>0.000000</td>\n",
       "      <td>0.000000</td>\n",
       "    </tr>\n",
       "    <tr>\n",
       "      <th>25%</th>\n",
       "      <td>0.210250</td>\n",
       "      <td>0.020000</td>\n",
       "      <td>0.365385</td>\n",
       "      <td>6112.000000</td>\n",
       "      <td>1.000000</td>\n",
       "      <td>2.000000</td>\n",
       "      <td>796.000000</td>\n",
       "      <td>3.000000</td>\n",
       "      <td>5.000000</td>\n",
       "      <td>4.600000</td>\n",
       "      <td>3445.000000</td>\n",
       "      <td>1515.000000</td>\n",
       "      <td>1475.00000</td>\n",
       "      <td>1185.000000</td>\n",
       "      <td>0.000000</td>\n",
       "      <td>0.000000</td>\n",
       "    </tr>\n",
       "    <tr>\n",
       "      <th>50%</th>\n",
       "      <td>0.573792</td>\n",
       "      <td>0.060000</td>\n",
       "      <td>0.451923</td>\n",
       "      <td>8794.000000</td>\n",
       "      <td>1.000000</td>\n",
       "      <td>2.000000</td>\n",
       "      <td>1197.000000</td>\n",
       "      <td>4.000000</td>\n",
       "      <td>5.000000</td>\n",
       "      <td>4.800000</td>\n",
       "      <td>3845.000000</td>\n",
       "      <td>1735.000000</td>\n",
       "      <td>1530.00000</td>\n",
       "      <td>1335.000000</td>\n",
       "      <td>2.000000</td>\n",
       "      <td>0.000000</td>\n",
       "    </tr>\n",
       "    <tr>\n",
       "      <th>75%</th>\n",
       "      <td>1.039104</td>\n",
       "      <td>0.110000</td>\n",
       "      <td>0.548077</td>\n",
       "      <td>27003.000000</td>\n",
       "      <td>3.000000</td>\n",
       "      <td>6.000000</td>\n",
       "      <td>1493.000000</td>\n",
       "      <td>4.000000</td>\n",
       "      <td>5.000000</td>\n",
       "      <td>5.000000</td>\n",
       "      <td>3995.000000</td>\n",
       "      <td>1755.000000</td>\n",
       "      <td>1635.00000</td>\n",
       "      <td>1510.000000</td>\n",
       "      <td>3.000000</td>\n",
       "      <td>0.000000</td>\n",
       "    </tr>\n",
       "    <tr>\n",
       "      <th>max</th>\n",
       "      <td>1.396641</td>\n",
       "      <td>1.000000</td>\n",
       "      <td>1.000000</td>\n",
       "      <td>73430.000000</td>\n",
       "      <td>5.000000</td>\n",
       "      <td>6.000000</td>\n",
       "      <td>1498.000000</td>\n",
       "      <td>4.000000</td>\n",
       "      <td>6.000000</td>\n",
       "      <td>5.200000</td>\n",
       "      <td>4300.000000</td>\n",
       "      <td>1811.000000</td>\n",
       "      <td>1825.00000</td>\n",
       "      <td>1720.000000</td>\n",
       "      <td>5.000000</td>\n",
       "      <td>1.000000</td>\n",
       "    </tr>\n",
       "  </tbody>\n",
       "</table>\n",
       "</div>"
      ],
      "text/plain": [
       "       policy_tenure    age_of_car  age_of_policyholder  population_density  \\\n",
       "count   58592.000000  58592.000000         58592.000000        58592.000000   \n",
       "mean        0.611246      0.069424             0.469420        18826.858667   \n",
       "std         0.414156      0.056721             0.122886        17660.174792   \n",
       "min         0.002735      0.000000             0.288462          290.000000   \n",
       "25%         0.210250      0.020000             0.365385         6112.000000   \n",
       "50%         0.573792      0.060000             0.451923         8794.000000   \n",
       "75%         1.039104      0.110000             0.548077        27003.000000   \n",
       "max         1.396641      1.000000             1.000000        73430.000000   \n",
       "\n",
       "               make       airbags  displacement      cylinder      gear_box  \\\n",
       "count  58592.000000  58592.000000  58592.000000  58592.000000  58592.000000   \n",
       "mean       1.763722      3.137066   1162.355851      3.626963      5.245443   \n",
       "std        1.136988      1.832641    266.304786      0.483616      0.430353   \n",
       "min        1.000000      1.000000    796.000000      3.000000      5.000000   \n",
       "25%        1.000000      2.000000    796.000000      3.000000      5.000000   \n",
       "50%        1.000000      2.000000   1197.000000      4.000000      5.000000   \n",
       "75%        3.000000      6.000000   1493.000000      4.000000      5.000000   \n",
       "max        5.000000      6.000000   1498.000000      4.000000      6.000000   \n",
       "\n",
       "       turning_radius        length         width       height  gross_weight  \\\n",
       "count    58592.000000  58592.000000  58592.000000  58592.00000  58592.000000   \n",
       "mean         4.852893   3850.476891   1672.233667   1553.33537   1385.276813   \n",
       "std          0.228061    311.457119    112.089135     79.62227    212.423085   \n",
       "min          4.500000   3445.000000   1475.000000   1475.00000   1051.000000   \n",
       "25%          4.600000   3445.000000   1515.000000   1475.00000   1185.000000   \n",
       "50%          4.800000   3845.000000   1735.000000   1530.00000   1335.000000   \n",
       "75%          5.000000   3995.000000   1755.000000   1635.00000   1510.000000   \n",
       "max          5.200000   4300.000000   1811.000000   1825.00000   1720.000000   \n",
       "\n",
       "        ncap_rating      is_claim  \n",
       "count  58592.000000  58592.000000  \n",
       "mean       1.759950      0.063968  \n",
       "std        1.389576      0.244698  \n",
       "min        0.000000      0.000000  \n",
       "25%        0.000000      0.000000  \n",
       "50%        2.000000      0.000000  \n",
       "75%        3.000000      0.000000  \n",
       "max        5.000000      1.000000  "
      ]
     },
     "execution_count": 231,
     "metadata": {},
     "output_type": "execute_result"
    }
   ],
   "source": [
    "train_csv.describe() # include=\"all\" 則可以看到每一筆資料包含非數值行資料的敘述統計結果"
   ]
  },
  {
   "cell_type": "markdown",
   "metadata": {},
   "source": [
    "3. 將資料進行標準化（針對需要進行標準化的特徵進行）"
   ]
  },
  {
   "cell_type": "code",
   "execution_count": 232,
   "metadata": {},
   "outputs": [
    {
     "data": {
      "text/html": [
       "<div>\n",
       "<style scoped>\n",
       "    .dataframe tbody tr th:only-of-type {\n",
       "        vertical-align: middle;\n",
       "    }\n",
       "\n",
       "    .dataframe tbody tr th {\n",
       "        vertical-align: top;\n",
       "    }\n",
       "\n",
       "    .dataframe thead th {\n",
       "        text-align: right;\n",
       "    }\n",
       "</style>\n",
       "<table border=\"1\" class=\"dataframe\">\n",
       "  <thead>\n",
       "    <tr style=\"text-align: right;\">\n",
       "      <th></th>\n",
       "      <th>policy_id</th>\n",
       "      <th>policy_tenure</th>\n",
       "      <th>age_of_car</th>\n",
       "      <th>age_of_policyholder</th>\n",
       "      <th>area_cluster</th>\n",
       "      <th>population_density</th>\n",
       "      <th>make</th>\n",
       "      <th>segment</th>\n",
       "      <th>model</th>\n",
       "      <th>fuel_type</th>\n",
       "      <th>...</th>\n",
       "      <th>is_brake_assist</th>\n",
       "      <th>is_power_door_locks</th>\n",
       "      <th>is_central_locking</th>\n",
       "      <th>is_power_steering</th>\n",
       "      <th>is_driver_seat_height_adjustable</th>\n",
       "      <th>is_day_night_rear_view_mirror</th>\n",
       "      <th>is_ecw</th>\n",
       "      <th>is_speed_alert</th>\n",
       "      <th>ncap_rating</th>\n",
       "      <th>is_claim</th>\n",
       "    </tr>\n",
       "  </thead>\n",
       "  <tbody>\n",
       "    <tr>\n",
       "      <th>0</th>\n",
       "      <td>ID00001</td>\n",
       "      <td>0.515874</td>\n",
       "      <td>0.05</td>\n",
       "      <td>0.644231</td>\n",
       "      <td>C1</td>\n",
       "      <td>-0.783513</td>\n",
       "      <td>1</td>\n",
       "      <td>A</td>\n",
       "      <td>M1</td>\n",
       "      <td>CNG</td>\n",
       "      <td>...</td>\n",
       "      <td>No</td>\n",
       "      <td>No</td>\n",
       "      <td>No</td>\n",
       "      <td>Yes</td>\n",
       "      <td>No</td>\n",
       "      <td>No</td>\n",
       "      <td>No</td>\n",
       "      <td>Yes</td>\n",
       "      <td>0</td>\n",
       "      <td>0</td>\n",
       "    </tr>\n",
       "    <tr>\n",
       "      <th>1</th>\n",
       "      <td>ID00002</td>\n",
       "      <td>0.672619</td>\n",
       "      <td>0.02</td>\n",
       "      <td>0.375000</td>\n",
       "      <td>C2</td>\n",
       "      <td>0.462975</td>\n",
       "      <td>1</td>\n",
       "      <td>A</td>\n",
       "      <td>M1</td>\n",
       "      <td>CNG</td>\n",
       "      <td>...</td>\n",
       "      <td>No</td>\n",
       "      <td>No</td>\n",
       "      <td>No</td>\n",
       "      <td>Yes</td>\n",
       "      <td>No</td>\n",
       "      <td>No</td>\n",
       "      <td>No</td>\n",
       "      <td>Yes</td>\n",
       "      <td>0</td>\n",
       "      <td>0</td>\n",
       "    </tr>\n",
       "    <tr>\n",
       "      <th>2</th>\n",
       "      <td>ID00003</td>\n",
       "      <td>0.841110</td>\n",
       "      <td>0.02</td>\n",
       "      <td>0.384615</td>\n",
       "      <td>C3</td>\n",
       "      <td>-0.835268</td>\n",
       "      <td>1</td>\n",
       "      <td>A</td>\n",
       "      <td>M1</td>\n",
       "      <td>CNG</td>\n",
       "      <td>...</td>\n",
       "      <td>No</td>\n",
       "      <td>No</td>\n",
       "      <td>No</td>\n",
       "      <td>Yes</td>\n",
       "      <td>No</td>\n",
       "      <td>No</td>\n",
       "      <td>No</td>\n",
       "      <td>Yes</td>\n",
       "      <td>0</td>\n",
       "      <td>0</td>\n",
       "    </tr>\n",
       "    <tr>\n",
       "      <th>3</th>\n",
       "      <td>ID00004</td>\n",
       "      <td>0.900277</td>\n",
       "      <td>0.11</td>\n",
       "      <td>0.432692</td>\n",
       "      <td>C4</td>\n",
       "      <td>0.158275</td>\n",
       "      <td>1</td>\n",
       "      <td>C1</td>\n",
       "      <td>M2</td>\n",
       "      <td>Petrol</td>\n",
       "      <td>...</td>\n",
       "      <td>Yes</td>\n",
       "      <td>Yes</td>\n",
       "      <td>Yes</td>\n",
       "      <td>Yes</td>\n",
       "      <td>Yes</td>\n",
       "      <td>Yes</td>\n",
       "      <td>Yes</td>\n",
       "      <td>Yes</td>\n",
       "      <td>2</td>\n",
       "      <td>0</td>\n",
       "    </tr>\n",
       "    <tr>\n",
       "      <th>4</th>\n",
       "      <td>ID00005</td>\n",
       "      <td>0.596403</td>\n",
       "      <td>0.11</td>\n",
       "      <td>0.634615</td>\n",
       "      <td>C5</td>\n",
       "      <td>0.900969</td>\n",
       "      <td>2</td>\n",
       "      <td>A</td>\n",
       "      <td>M3</td>\n",
       "      <td>Petrol</td>\n",
       "      <td>...</td>\n",
       "      <td>No</td>\n",
       "      <td>Yes</td>\n",
       "      <td>Yes</td>\n",
       "      <td>Yes</td>\n",
       "      <td>No</td>\n",
       "      <td>Yes</td>\n",
       "      <td>Yes</td>\n",
       "      <td>Yes</td>\n",
       "      <td>2</td>\n",
       "      <td>0</td>\n",
       "    </tr>\n",
       "    <tr>\n",
       "      <th>...</th>\n",
       "      <td>...</td>\n",
       "      <td>...</td>\n",
       "      <td>...</td>\n",
       "      <td>...</td>\n",
       "      <td>...</td>\n",
       "      <td>...</td>\n",
       "      <td>...</td>\n",
       "      <td>...</td>\n",
       "      <td>...</td>\n",
       "      <td>...</td>\n",
       "      <td>...</td>\n",
       "      <td>...</td>\n",
       "      <td>...</td>\n",
       "      <td>...</td>\n",
       "      <td>...</td>\n",
       "      <td>...</td>\n",
       "      <td>...</td>\n",
       "      <td>...</td>\n",
       "      <td>...</td>\n",
       "      <td>...</td>\n",
       "      <td>...</td>\n",
       "    </tr>\n",
       "    <tr>\n",
       "      <th>58587</th>\n",
       "      <td>ID58588</td>\n",
       "      <td>0.355089</td>\n",
       "      <td>0.13</td>\n",
       "      <td>0.644231</td>\n",
       "      <td>C8</td>\n",
       "      <td>-0.568111</td>\n",
       "      <td>2</td>\n",
       "      <td>A</td>\n",
       "      <td>M3</td>\n",
       "      <td>Petrol</td>\n",
       "      <td>...</td>\n",
       "      <td>No</td>\n",
       "      <td>Yes</td>\n",
       "      <td>Yes</td>\n",
       "      <td>Yes</td>\n",
       "      <td>No</td>\n",
       "      <td>Yes</td>\n",
       "      <td>Yes</td>\n",
       "      <td>Yes</td>\n",
       "      <td>2</td>\n",
       "      <td>0</td>\n",
       "    </tr>\n",
       "    <tr>\n",
       "      <th>58588</th>\n",
       "      <td>ID58589</td>\n",
       "      <td>1.199642</td>\n",
       "      <td>0.02</td>\n",
       "      <td>0.519231</td>\n",
       "      <td>C14</td>\n",
       "      <td>-0.625076</td>\n",
       "      <td>1</td>\n",
       "      <td>A</td>\n",
       "      <td>M1</td>\n",
       "      <td>CNG</td>\n",
       "      <td>...</td>\n",
       "      <td>No</td>\n",
       "      <td>No</td>\n",
       "      <td>No</td>\n",
       "      <td>Yes</td>\n",
       "      <td>No</td>\n",
       "      <td>No</td>\n",
       "      <td>No</td>\n",
       "      <td>Yes</td>\n",
       "      <td>0</td>\n",
       "      <td>0</td>\n",
       "    </tr>\n",
       "    <tr>\n",
       "      <th>58589</th>\n",
       "      <td>ID58590</td>\n",
       "      <td>1.162273</td>\n",
       "      <td>0.05</td>\n",
       "      <td>0.451923</td>\n",
       "      <td>C5</td>\n",
       "      <td>0.900969</td>\n",
       "      <td>1</td>\n",
       "      <td>A</td>\n",
       "      <td>M1</td>\n",
       "      <td>CNG</td>\n",
       "      <td>...</td>\n",
       "      <td>No</td>\n",
       "      <td>No</td>\n",
       "      <td>No</td>\n",
       "      <td>Yes</td>\n",
       "      <td>No</td>\n",
       "      <td>No</td>\n",
       "      <td>No</td>\n",
       "      <td>Yes</td>\n",
       "      <td>0</td>\n",
       "      <td>0</td>\n",
       "    </tr>\n",
       "    <tr>\n",
       "      <th>58590</th>\n",
       "      <td>ID58591</td>\n",
       "      <td>1.236307</td>\n",
       "      <td>0.14</td>\n",
       "      <td>0.557692</td>\n",
       "      <td>C8</td>\n",
       "      <td>-0.568111</td>\n",
       "      <td>1</td>\n",
       "      <td>B2</td>\n",
       "      <td>M6</td>\n",
       "      <td>Petrol</td>\n",
       "      <td>...</td>\n",
       "      <td>Yes</td>\n",
       "      <td>Yes</td>\n",
       "      <td>Yes</td>\n",
       "      <td>Yes</td>\n",
       "      <td>Yes</td>\n",
       "      <td>Yes</td>\n",
       "      <td>Yes</td>\n",
       "      <td>Yes</td>\n",
       "      <td>2</td>\n",
       "      <td>0</td>\n",
       "    </tr>\n",
       "    <tr>\n",
       "      <th>58591</th>\n",
       "      <td>ID58592</td>\n",
       "      <td>0.124429</td>\n",
       "      <td>0.02</td>\n",
       "      <td>0.442308</td>\n",
       "      <td>C8</td>\n",
       "      <td>-0.568111</td>\n",
       "      <td>3</td>\n",
       "      <td>C2</td>\n",
       "      <td>M4</td>\n",
       "      <td>Diesel</td>\n",
       "      <td>...</td>\n",
       "      <td>Yes</td>\n",
       "      <td>Yes</td>\n",
       "      <td>Yes</td>\n",
       "      <td>Yes</td>\n",
       "      <td>Yes</td>\n",
       "      <td>No</td>\n",
       "      <td>Yes</td>\n",
       "      <td>Yes</td>\n",
       "      <td>3</td>\n",
       "      <td>0</td>\n",
       "    </tr>\n",
       "  </tbody>\n",
       "</table>\n",
       "<p>58592 rows × 44 columns</p>\n",
       "</div>"
      ],
      "text/plain": [
       "      policy_id  policy_tenure  age_of_car  age_of_policyholder area_cluster  \\\n",
       "0       ID00001       0.515874        0.05             0.644231           C1   \n",
       "1       ID00002       0.672619        0.02             0.375000           C2   \n",
       "2       ID00003       0.841110        0.02             0.384615           C3   \n",
       "3       ID00004       0.900277        0.11             0.432692           C4   \n",
       "4       ID00005       0.596403        0.11             0.634615           C5   \n",
       "...         ...            ...         ...                  ...          ...   \n",
       "58587   ID58588       0.355089        0.13             0.644231           C8   \n",
       "58588   ID58589       1.199642        0.02             0.519231          C14   \n",
       "58589   ID58590       1.162273        0.05             0.451923           C5   \n",
       "58590   ID58591       1.236307        0.14             0.557692           C8   \n",
       "58591   ID58592       0.124429        0.02             0.442308           C8   \n",
       "\n",
       "       population_density  make segment model fuel_type  ... is_brake_assist  \\\n",
       "0               -0.783513     1       A    M1       CNG  ...              No   \n",
       "1                0.462975     1       A    M1       CNG  ...              No   \n",
       "2               -0.835268     1       A    M1       CNG  ...              No   \n",
       "3                0.158275     1      C1    M2    Petrol  ...             Yes   \n",
       "4                0.900969     2       A    M3    Petrol  ...              No   \n",
       "...                   ...   ...     ...   ...       ...  ...             ...   \n",
       "58587           -0.568111     2       A    M3    Petrol  ...              No   \n",
       "58588           -0.625076     1       A    M1       CNG  ...              No   \n",
       "58589            0.900969     1       A    M1       CNG  ...              No   \n",
       "58590           -0.568111     1      B2    M6    Petrol  ...             Yes   \n",
       "58591           -0.568111     3      C2    M4    Diesel  ...             Yes   \n",
       "\n",
       "      is_power_door_locks is_central_locking  is_power_steering  \\\n",
       "0                      No                 No                Yes   \n",
       "1                      No                 No                Yes   \n",
       "2                      No                 No                Yes   \n",
       "3                     Yes                Yes                Yes   \n",
       "4                     Yes                Yes                Yes   \n",
       "...                   ...                ...                ...   \n",
       "58587                 Yes                Yes                Yes   \n",
       "58588                  No                 No                Yes   \n",
       "58589                  No                 No                Yes   \n",
       "58590                 Yes                Yes                Yes   \n",
       "58591                 Yes                Yes                Yes   \n",
       "\n",
       "      is_driver_seat_height_adjustable is_day_night_rear_view_mirror is_ecw  \\\n",
       "0                                   No                            No     No   \n",
       "1                                   No                            No     No   \n",
       "2                                   No                            No     No   \n",
       "3                                  Yes                           Yes    Yes   \n",
       "4                                   No                           Yes    Yes   \n",
       "...                                ...                           ...    ...   \n",
       "58587                               No                           Yes    Yes   \n",
       "58588                               No                            No     No   \n",
       "58589                               No                            No     No   \n",
       "58590                              Yes                           Yes    Yes   \n",
       "58591                              Yes                            No    Yes   \n",
       "\n",
       "      is_speed_alert ncap_rating is_claim  \n",
       "0                Yes           0        0  \n",
       "1                Yes           0        0  \n",
       "2                Yes           0        0  \n",
       "3                Yes           2        0  \n",
       "4                Yes           2        0  \n",
       "...              ...         ...      ...  \n",
       "58587            Yes           2        0  \n",
       "58588            Yes           0        0  \n",
       "58589            Yes           0        0  \n",
       "58590            Yes           2        0  \n",
       "58591            Yes           3        0  \n",
       "\n",
       "[58592 rows x 44 columns]"
      ]
     },
     "execution_count": 232,
     "metadata": {},
     "output_type": "execute_result"
    }
   ],
   "source": [
    "def standardize(data,column):\n",
    "    # 選擇需要標準化的特定行\n",
    "    col_data = data[column].values.reshape(1, -1)\n",
    "    # 使用 fit_transform 函數對特定行進行標準化\n",
    "    normalized_col_data = (col_data - col_data.mean()) / (col_data.std())\n",
    "    # 更新 DataFrame 中特定行的標準化後數值\n",
    "    data[column] = normalized_col_data.flatten()\n",
    "    return data\n",
    "\n",
    "standardize(train_csv, \"population_density\")\n",
    "standardize(train_csv, \"displacement\")\n",
    "standardize(train_csv, \"length\")\n",
    "standardize(train_csv, \"width\")\n",
    "standardize(train_csv, \"height\")\n",
    "standardize(train_csv, \"gross_weight\")"
   ]
  },
  {
   "cell_type": "markdown",
   "metadata": {},
   "source": [
    "4. 將資料判斷是否為類別變數，如果是的話則進行one-hot encoding"
   ]
  },
  {
   "cell_type": "code",
   "execution_count": 233,
   "metadata": {},
   "outputs": [
    {
     "data": {
      "text/html": [
       "<div>\n",
       "<style scoped>\n",
       "    .dataframe tbody tr th:only-of-type {\n",
       "        vertical-align: middle;\n",
       "    }\n",
       "\n",
       "    .dataframe tbody tr th {\n",
       "        vertical-align: top;\n",
       "    }\n",
       "\n",
       "    .dataframe thead th {\n",
       "        text-align: right;\n",
       "    }\n",
       "</style>\n",
       "<table border=\"1\" class=\"dataframe\">\n",
       "  <thead>\n",
       "    <tr style=\"text-align: right;\">\n",
       "      <th></th>\n",
       "      <th>policy_tenure</th>\n",
       "      <th>age_of_car</th>\n",
       "      <th>age_of_policyholder</th>\n",
       "      <th>population_density</th>\n",
       "      <th>make</th>\n",
       "      <th>airbags</th>\n",
       "      <th>is_esc</th>\n",
       "      <th>is_adjustable_steering</th>\n",
       "      <th>is_tpms</th>\n",
       "      <th>is_parking_sensors</th>\n",
       "      <th>...</th>\n",
       "      <th>Category_K Series Dual jet</th>\n",
       "      <th>Category_K10C</th>\n",
       "      <th>Category_i-DTEC</th>\n",
       "      <th>Category_Disc</th>\n",
       "      <th>Category_Drum</th>\n",
       "      <th>Category_Automatic</th>\n",
       "      <th>Category_Manual</th>\n",
       "      <th>Category_Electric</th>\n",
       "      <th>Category_Manual</th>\n",
       "      <th>Category_Power</th>\n",
       "    </tr>\n",
       "  </thead>\n",
       "  <tbody>\n",
       "    <tr>\n",
       "      <th>count</th>\n",
       "      <td>58592.000000</td>\n",
       "      <td>58592.000000</td>\n",
       "      <td>58592.000000</td>\n",
       "      <td>5.859200e+04</td>\n",
       "      <td>58592.000000</td>\n",
       "      <td>58592.000000</td>\n",
       "      <td>58592.000000</td>\n",
       "      <td>58592.000000</td>\n",
       "      <td>58592.000000</td>\n",
       "      <td>58592.000000</td>\n",
       "      <td>...</td>\n",
       "      <td>58592.000000</td>\n",
       "      <td>58592.000000</td>\n",
       "      <td>58592.000000</td>\n",
       "      <td>58592.000000</td>\n",
       "      <td>58592.000000</td>\n",
       "      <td>58592.000000</td>\n",
       "      <td>58592.000000</td>\n",
       "      <td>58592.000000</td>\n",
       "      <td>58592.000000</td>\n",
       "      <td>58592.000000</td>\n",
       "    </tr>\n",
       "    <tr>\n",
       "      <th>mean</th>\n",
       "      <td>0.611246</td>\n",
       "      <td>0.069424</td>\n",
       "      <td>0.469420</td>\n",
       "      <td>5.220656e-17</td>\n",
       "      <td>1.763722</td>\n",
       "      <td>3.137066</td>\n",
       "      <td>0.314053</td>\n",
       "      <td>0.606329</td>\n",
       "      <td>0.239248</td>\n",
       "      <td>0.959500</td>\n",
       "      <td>...</td>\n",
       "      <td>0.235117</td>\n",
       "      <td>0.071221</td>\n",
       "      <td>0.036080</td>\n",
       "      <td>0.239248</td>\n",
       "      <td>0.760752</td>\n",
       "      <td>0.348358</td>\n",
       "      <td>0.651642</td>\n",
       "      <td>0.407581</td>\n",
       "      <td>0.020634</td>\n",
       "      <td>0.571785</td>\n",
       "    </tr>\n",
       "    <tr>\n",
       "      <th>std</th>\n",
       "      <td>0.414156</td>\n",
       "      <td>0.056721</td>\n",
       "      <td>0.122886</td>\n",
       "      <td>1.000009e+00</td>\n",
       "      <td>1.136988</td>\n",
       "      <td>1.832641</td>\n",
       "      <td>0.464142</td>\n",
       "      <td>0.488568</td>\n",
       "      <td>0.426628</td>\n",
       "      <td>0.197131</td>\n",
       "      <td>...</td>\n",
       "      <td>0.424076</td>\n",
       "      <td>0.257196</td>\n",
       "      <td>0.186491</td>\n",
       "      <td>0.426628</td>\n",
       "      <td>0.426628</td>\n",
       "      <td>0.476454</td>\n",
       "      <td>0.476454</td>\n",
       "      <td>0.491389</td>\n",
       "      <td>0.142158</td>\n",
       "      <td>0.494824</td>\n",
       "    </tr>\n",
       "    <tr>\n",
       "      <th>min</th>\n",
       "      <td>0.002735</td>\n",
       "      <td>0.000000</td>\n",
       "      <td>0.288462</td>\n",
       "      <td>-1.049651e+00</td>\n",
       "      <td>1.000000</td>\n",
       "      <td>1.000000</td>\n",
       "      <td>0.000000</td>\n",
       "      <td>0.000000</td>\n",
       "      <td>0.000000</td>\n",
       "      <td>0.000000</td>\n",
       "      <td>...</td>\n",
       "      <td>0.000000</td>\n",
       "      <td>0.000000</td>\n",
       "      <td>0.000000</td>\n",
       "      <td>0.000000</td>\n",
       "      <td>0.000000</td>\n",
       "      <td>0.000000</td>\n",
       "      <td>0.000000</td>\n",
       "      <td>0.000000</td>\n",
       "      <td>0.000000</td>\n",
       "      <td>0.000000</td>\n",
       "    </tr>\n",
       "    <tr>\n",
       "      <th>25%</th>\n",
       "      <td>0.210250</td>\n",
       "      <td>0.020000</td>\n",
       "      <td>0.365385</td>\n",
       "      <td>-7.199797e-01</td>\n",
       "      <td>1.000000</td>\n",
       "      <td>2.000000</td>\n",
       "      <td>0.000000</td>\n",
       "      <td>0.000000</td>\n",
       "      <td>0.000000</td>\n",
       "      <td>1.000000</td>\n",
       "      <td>...</td>\n",
       "      <td>0.000000</td>\n",
       "      <td>0.000000</td>\n",
       "      <td>0.000000</td>\n",
       "      <td>0.000000</td>\n",
       "      <td>1.000000</td>\n",
       "      <td>0.000000</td>\n",
       "      <td>0.000000</td>\n",
       "      <td>0.000000</td>\n",
       "      <td>0.000000</td>\n",
       "      <td>0.000000</td>\n",
       "    </tr>\n",
       "    <tr>\n",
       "      <th>50%</th>\n",
       "      <td>0.573792</td>\n",
       "      <td>0.060000</td>\n",
       "      <td>0.451923</td>\n",
       "      <td>-5.681113e-01</td>\n",
       "      <td>1.000000</td>\n",
       "      <td>2.000000</td>\n",
       "      <td>0.000000</td>\n",
       "      <td>1.000000</td>\n",
       "      <td>0.000000</td>\n",
       "      <td>1.000000</td>\n",
       "      <td>...</td>\n",
       "      <td>0.000000</td>\n",
       "      <td>0.000000</td>\n",
       "      <td>0.000000</td>\n",
       "      <td>0.000000</td>\n",
       "      <td>1.000000</td>\n",
       "      <td>0.000000</td>\n",
       "      <td>1.000000</td>\n",
       "      <td>0.000000</td>\n",
       "      <td>0.000000</td>\n",
       "      <td>1.000000</td>\n",
       "    </tr>\n",
       "    <tr>\n",
       "      <th>75%</th>\n",
       "      <td>1.039104</td>\n",
       "      <td>0.110000</td>\n",
       "      <td>0.548077</td>\n",
       "      <td>4.629745e-01</td>\n",
       "      <td>3.000000</td>\n",
       "      <td>6.000000</td>\n",
       "      <td>1.000000</td>\n",
       "      <td>1.000000</td>\n",
       "      <td>0.000000</td>\n",
       "      <td>1.000000</td>\n",
       "      <td>...</td>\n",
       "      <td>0.000000</td>\n",
       "      <td>0.000000</td>\n",
       "      <td>0.000000</td>\n",
       "      <td>0.000000</td>\n",
       "      <td>1.000000</td>\n",
       "      <td>1.000000</td>\n",
       "      <td>1.000000</td>\n",
       "      <td>1.000000</td>\n",
       "      <td>0.000000</td>\n",
       "      <td>1.000000</td>\n",
       "    </tr>\n",
       "    <tr>\n",
       "      <th>max</th>\n",
       "      <td>1.396641</td>\n",
       "      <td>1.000000</td>\n",
       "      <td>1.000000</td>\n",
       "      <td>3.091906e+00</td>\n",
       "      <td>5.000000</td>\n",
       "      <td>6.000000</td>\n",
       "      <td>1.000000</td>\n",
       "      <td>1.000000</td>\n",
       "      <td>1.000000</td>\n",
       "      <td>1.000000</td>\n",
       "      <td>...</td>\n",
       "      <td>1.000000</td>\n",
       "      <td>1.000000</td>\n",
       "      <td>1.000000</td>\n",
       "      <td>1.000000</td>\n",
       "      <td>1.000000</td>\n",
       "      <td>1.000000</td>\n",
       "      <td>1.000000</td>\n",
       "      <td>1.000000</td>\n",
       "      <td>1.000000</td>\n",
       "      <td>1.000000</td>\n",
       "    </tr>\n",
       "  </tbody>\n",
       "</table>\n",
       "<p>8 rows × 110 columns</p>\n",
       "</div>"
      ],
      "text/plain": [
       "       policy_tenure    age_of_car  age_of_policyholder  population_density  \\\n",
       "count   58592.000000  58592.000000         58592.000000        5.859200e+04   \n",
       "mean        0.611246      0.069424             0.469420        5.220656e-17   \n",
       "std         0.414156      0.056721             0.122886        1.000009e+00   \n",
       "min         0.002735      0.000000             0.288462       -1.049651e+00   \n",
       "25%         0.210250      0.020000             0.365385       -7.199797e-01   \n",
       "50%         0.573792      0.060000             0.451923       -5.681113e-01   \n",
       "75%         1.039104      0.110000             0.548077        4.629745e-01   \n",
       "max         1.396641      1.000000             1.000000        3.091906e+00   \n",
       "\n",
       "               make       airbags        is_esc  is_adjustable_steering  \\\n",
       "count  58592.000000  58592.000000  58592.000000            58592.000000   \n",
       "mean       1.763722      3.137066      0.314053                0.606329   \n",
       "std        1.136988      1.832641      0.464142                0.488568   \n",
       "min        1.000000      1.000000      0.000000                0.000000   \n",
       "25%        1.000000      2.000000      0.000000                0.000000   \n",
       "50%        1.000000      2.000000      0.000000                1.000000   \n",
       "75%        3.000000      6.000000      1.000000                1.000000   \n",
       "max        5.000000      6.000000      1.000000                1.000000   \n",
       "\n",
       "            is_tpms  is_parking_sensors  ...  Category_K Series Dual jet  \\\n",
       "count  58592.000000        58592.000000  ...                58592.000000   \n",
       "mean       0.239248            0.959500  ...                    0.235117   \n",
       "std        0.426628            0.197131  ...                    0.424076   \n",
       "min        0.000000            0.000000  ...                    0.000000   \n",
       "25%        0.000000            1.000000  ...                    0.000000   \n",
       "50%        0.000000            1.000000  ...                    0.000000   \n",
       "75%        0.000000            1.000000  ...                    0.000000   \n",
       "max        1.000000            1.000000  ...                    1.000000   \n",
       "\n",
       "       Category_K10C  Category_i-DTEC  Category_Disc  Category_Drum  \\\n",
       "count   58592.000000     58592.000000   58592.000000   58592.000000   \n",
       "mean        0.071221         0.036080       0.239248       0.760752   \n",
       "std         0.257196         0.186491       0.426628       0.426628   \n",
       "min         0.000000         0.000000       0.000000       0.000000   \n",
       "25%         0.000000         0.000000       0.000000       1.000000   \n",
       "50%         0.000000         0.000000       0.000000       1.000000   \n",
       "75%         0.000000         0.000000       0.000000       1.000000   \n",
       "max         1.000000         1.000000       1.000000       1.000000   \n",
       "\n",
       "       Category_Automatic  Category_Manual  Category_Electric  \\\n",
       "count        58592.000000     58592.000000       58592.000000   \n",
       "mean             0.348358         0.651642           0.407581   \n",
       "std              0.476454         0.476454           0.491389   \n",
       "min              0.000000         0.000000           0.000000   \n",
       "25%              0.000000         0.000000           0.000000   \n",
       "50%              0.000000         1.000000           0.000000   \n",
       "75%              1.000000         1.000000           1.000000   \n",
       "max              1.000000         1.000000           1.000000   \n",
       "\n",
       "       Category_Manual  Category_Power  \n",
       "count     58592.000000    58592.000000  \n",
       "mean          0.020634        0.571785  \n",
       "std           0.142158        0.494824  \n",
       "min           0.000000        0.000000  \n",
       "25%           0.000000        0.000000  \n",
       "50%           0.000000        1.000000  \n",
       "75%           0.000000        1.000000  \n",
       "max           1.000000        1.000000  \n",
       "\n",
       "[8 rows x 110 columns]"
      ]
     },
     "execution_count": 233,
     "metadata": {},
     "output_type": "execute_result"
    }
   ],
   "source": [
    "# 假設輸入的特徵為6個，並且有2個是類別變數\n",
    "train = train_csv.drop([\"policy_id\",\"is_claim\"], axis=1)\n",
    "# train = train_csv.iloc[:,:-1]\n",
    "# , \"max_torque\", \"make\", \"fuel_type\"\n",
    "# 取出正確的label\n",
    "label = train_csv[\"is_claim\"].values\n",
    "# 選取出特徵後將資料型態轉變成lsit # 也可以轉換成matrix to_numpy()\n",
    "subset_ = train.values\n",
    "for col in train.columns:\n",
    "    if train[col].isin(['Yes', 'No']).all():\n",
    "        train[col] = train[col].map({'Yes': 1, 'No': 0})\n",
    "    elif train[col].apply(lambda x: isinstance(x, str)).all():\n",
    "        index = train.columns.get_loc(col)\n",
    "        onehot = pd.get_dummies(train[col], columns=['Category'], prefix='Category', dtype=int)\n",
    "        train = pd.concat([train, onehot], axis=1)\n",
    "\n",
    "index=[]\n",
    "for col in train.columns:\n",
    "    if train[col].apply(lambda x: isinstance(x, str)).all():\n",
    "        index.append(train.columns.get_loc(col))\n",
    "train = train.drop(columns=train.columns[index]) # 刪掉那些已經經過one-hot encoding的行資料\n",
    "train_ = train\n",
    "ori_X_train, ori_X_test, ori_y_train, ori_y_test = train_test_split(train_, train_csv[\"is_claim\"], test_size=0.2, random_state=42)\n",
    "\n",
    "train_column_names = train.columns # 儲存變數名稱\n",
    "train.describe()\n"
   ]
  },
  {
   "cell_type": "markdown",
   "metadata": {},
   "source": [
    "5. 將one-hot encoding結束後資料型態由dataframe轉換成np.array形式，並且切分成80%訓練及資料與20%測驗資料"
   ]
  },
  {
   "cell_type": "code",
   "execution_count": 234,
   "metadata": {},
   "outputs": [],
   "source": [
    "# 將資料型態由dataframe轉換成np.array\n",
    "train = train.values\n",
    "\n",
    "# 隨機打亂資料的index\n",
    "indices = np.arange(len(train))\n",
    "np.random.shuffle(indices)\n",
    "\n",
    "# 使用打亂後的index，將資料切分成 80% train 和 20% test\n",
    "split_ratio = 0.8\n",
    "split_index = int(len(train) * split_ratio)\n",
    "X_shuffled = train[indices]\n",
    "y_shuffled = label[indices]\n",
    "train = X_shuffled[:split_index]\n",
    "train_label = y_shuffled[:split_index]\n",
    "test = X_shuffled[split_index:]\n",
    "test_label = y_shuffled[split_index:]"
   ]
  },
  {
   "cell_type": "markdown",
   "metadata": {},
   "source": [
    "### 1. Linear Classifier :\n",
    "• Implement a basic linear classifier."
   ]
  },
  {
   "cell_type": "code",
   "execution_count": 168,
   "metadata": {},
   "outputs": [],
   "source": [
    "# # 利用內建套件的輸入csv檔案\n",
    "# import csv\n",
    "# # train csv 檔案輸入\n",
    "# with open(\"/Users/zhuxinrong/Desktop/ML/Dataset/train.csv\", newline=\"\") as train_csv:\n",
    "#     data = csv.reader(train_csv)\n",
    "#     data_list = list(data) # 將資料轉換成list串列形式\n",
    "#     train_csv.close() # 在城市中開啟了檔案以後如果要停止對檔案的更動或寫入，可以將檔案關閉\n",
    "\n",
    "# print(data_list[1][0]) # 取得資料中第2個row中第1個column的數值\n",
    "# print(data_list[0]) # 取得各項變數名稱\n",
    "# print(type(data_list)) # 查看資料型態為list \n",
    "\n",
    "# print((train_csv.head(5)))\n",
    "# train_csv[\"age_of_car\"] # 取得單一特定欄位資料\n",
    "# print(train_csv.at[1,\"age_of_car\"])# 取得特定欄位的索引值為1資料\n",
    "# print(train_csv.iat[1,2]) # 利用欄位順序與資料索引值取得資料\n",
    "# print(train_csv.loc[[1,3],[\"age_of_car\",\"make\"]])# 取得資料索引值1,3的兩個特定欄位資料\n",
    "# print(train_csv.head(3)) # 顯示前3筆資料\n",
    "# print(len(train_csv)) # 顯示資料總筆數\n",
    "# train_csv.describe() # 檢查資料統計數字\n",
    "# print(train_csv.isnull()) # 檢查資料中是否有遺失值\n",
    "# print(train_csv.isna()) # 檢查資料中是否有NA值\n",
    "# train_csv.iloc[:,:-1]\n",
    "\n",
    "# # 假設輸入的特徵為6個，並且有2個是類別變數\n",
    "# train = train_csv[[\"policy_tenure\", \"age_of_car\",\"area_cluster\", \"age_of_policyholder\", \n",
    "#                     \"population_density\", \"max_torque\", \"make\", \"fuel_type\"]]\n",
    "# # , \"max_torque\", \"make\", \"fuel_type\"\n",
    "# # 取出正確的label\n",
    "# label = train_csv[\"is_claim\"].values\n",
    "# # 選取出特徵後將資料型態轉變成lsit # 也可以轉換成matrix to_numpy()\n",
    "# subset_ = train.values\n",
    "\n",
    "# # 判斷變數是否為字串或是數值\n",
    "# str_index = []\n",
    "# for l in range(subset_.shape[1]):\n",
    "#     if isinstance(subset_[0,l], str):\n",
    "#         str_index.append(l)\n",
    "# # 從原本訓練資料中刪除屬於字串類型資料\n",
    "# subset = np.delete(subset_, str_index, 1)\n",
    "# # 如果特徵為字串，則進行One Hot encoding\n",
    "# for s in range(len(str_index)):\n",
    "#     categories = subset_[:,str_index[s]] # 引入資料中的類別特徵\n",
    "#     unique_categories = np.unique(categories) # 獲得該類別資料中的不同特徵（共有幾種類別）\n",
    "#     one_hot_encoded = np.zeros((len(categories), len(unique_categories))) # 建立一個空的矩陣用於儲存One-Hot Encoding的結果\n",
    "#     # 進行One-Hot Encoding\n",
    "#     for i in range(len(categories)):\n",
    "#         category_index = np.where(unique_categories == categories[i])[0][0] # 判斷第i列的類別資料屬於哪一個類別，例如第一列資料屬於第五個類別，後面兩個[0]為了使回傳是一個數字而非list或arrary\n",
    "#         one_hot_encoded[i, category_index] = 1 # 設定全部種類中，屬於第幾種類別就該位置變成一，其他維持為0\n",
    "#     subset = np.concatenate([subset, one_hot_encoded],axis=1) # 把One-Hot Encoding加入訓練資料中\n",
    "\n",
    "# # 隨機打亂資料的index\n",
    "# indices = np.arange(len(subset))\n",
    "# np.random.shuffle(indices)\n",
    "\n",
    "# # 使用打亂後的index，將資料切分成 80% train 和 20% test\n",
    "# split_ratio = 0.8\n",
    "# split_index = int(len(subset) * split_ratio)\n",
    "# X_shuffled = subset[indices]\n",
    "# y_shuffled = label[indices]\n",
    "# train = X_shuffled[:split_index]\n",
    "# train_label = y_shuffled[:split_index]\n",
    "# test = X_shuffled[split_index:]\n",
    "# test_label = y_shuffled[split_index:]"
   ]
  },
  {
   "cell_type": "code",
   "execution_count": 236,
   "metadata": {},
   "outputs": [
    {
     "name": "stderr",
     "output_type": "stream",
     "text": [
      "100%|██████████| 46873/46873 [00:01<00:00, 36043.37it/s]\n"
     ]
    },
    {
     "name": "stdout",
     "output_type": "stream",
     "text": [
      "accuracy percentage:88.0451%\n",
      "Counter({0: 10975, 1: 744})\n",
      "Counter({0: 10978, 1: 741})\n",
      "Counter({0: 43869, 1: 3004})\n"
     ]
    }
   ],
   "source": [
    "class LinearClassifier:\n",
    "    def __init__(self, learning_rate=0.01):\n",
    "        self.learning_rate = learning_rate # 設定學習率（讓更新的權重不要一次更新太多）\n",
    "\n",
    "    def fit(self, X, y): # X:train data, y: train label, coef代表如果已經有初始權重輸入則在此輸入並且不需要初始化權重\n",
    "        self.weights = np.random.randn(X.shape[1]) # 首先隨機生成初始化權重，根據輸入特徵數量也就是欄位數生成\n",
    "        self.bias = 0 # 設定初始化偏移量b\n",
    "\n",
    "        for i in tqdm(range(X.shape[0])): # 輸入第i筆資料進行動作\n",
    "            y_pred = self.predict(X[i]) # 輸入特徵並計算出prediction值（0,1）\n",
    "            loss =  ( y[i] - y_pred )  # 判斷是否需要對於權重進行更新（Loss: true label - prediction label）如果0-1=-1代表真實為負但是預測是正的，因此權重應該要下降（向負的靠近）\n",
    "            loss_feature = [i * loss for i in X[i]] # 計算error * feature 判斷需不需要更新權重   變數裡面外面不要重複i,j\n",
    "            add = lambda x, y: x + self.learning_rate * y # 需要設定learning rate\n",
    "            self.weights = list(map(add, self.weights, loss_feature)) # 如果預測正確就不需要更新權重，也就是Loss=0，update=0\n",
    "            self.bias += self.learning_rate * loss\n",
    "    \n",
    "    def predict(self, x):\n",
    "        activation = np.dot(self.weights, x) + self.bias # 計算predict\n",
    "        return 1 if activation >= 0 else 0 # 根據predict正負判斷回傳label為1或是0\n",
    "\n",
    "rd.seed(10)\n",
    "# 初始化一個線性分類器（並設定learning rate）\n",
    "linearclass = LinearClassifier(learning_rate=1e-4)\n",
    "\n",
    "# 輸入訓練資料進行訓練\n",
    "linearclass.fit(train, train_label)\n",
    "\n",
    "# 利用切好的test資料進行預測\n",
    "predictions = [linearclass.predict(x) for x in test]\n",
    "\n",
    "print(f\"accuracy percentage:{round(accuracy_score(predictions, test_label) * 100, 4)}%\")\n",
    "print(collections.Counter(test_label))\n",
    "print(collections.Counter(predictions))\n",
    "print(collections.Counter(train_label)) # 大部分是0"
   ]
  },
  {
   "cell_type": "markdown",
   "metadata": {},
   "source": [
    "### 2. K-NN Classifier :\n",
    "• Implement the K-NN classifier using three different distance metrics.\\\n",
    "• Specify and explain the distance metrics used."
   ]
  },
  {
   "cell_type": "code",
   "execution_count": 154,
   "metadata": {},
   "outputs": [
    {
     "name": "stderr",
     "output_type": "stream",
     "text": [
      "Processing List: 100%|██████████| 11719/11719 [02:19<00:00, 84.00x/s]"
     ]
    },
    {
     "name": "stdout",
     "output_type": "stream",
     "text": [
      "accuracy percentage:92.6103%\n"
     ]
    },
    {
     "name": "stderr",
     "output_type": "stream",
     "text": [
      "\n"
     ]
    }
   ],
   "source": [
    "class KNNClassifier:\n",
    "    def __init__(self, k=3):\n",
    "        self.k = k\n",
    "\n",
    "    def fit(self, X, y):\n",
    "        self.X_train = X\n",
    "        self.y_train = y\n",
    "\n",
    "    def predict(self, X, mode = 1):\n",
    "        y_pred = []\n",
    "        for x in tqdm(X, desc=\"Processing List\", unit=\"x\"):\n",
    "            y_pred.append(self._predict(x, mode))\n",
    "        return np.array(y_pred)\n",
    "\n",
    "    def _predict(self, x, mode):\n",
    "        x = np.tile(x, (self.X_train.shape[0], 1)) # 將輸入進來單一筆的test資料變成和訓練資料同維度的矩陣以方便直接做矩陣相減運算\n",
    "        # 計算test資料與所有train資料的距離(利用明氏距離Minkowski Distance , mode=1代表利用曼哈頓距離, mode=2代表利用歐式距離, mode>2代表利用明氏距離)\n",
    "        distances = (np.sum(np.abs(x - self.X_train) ** mode , axis=1)) ** (1/mode)  # default為歐幾里得距離（利用明式距離P=1）\n",
    "        distances = distances.tolist()  # 轉成list\n",
    "\n",
    "        # 找到離該測驗樣本最近的k個訓練樣本index\n",
    "        k_indices = np.argsort(distances)[:self.k] # argsort是將元素\"從小到大\"排序後將其index取出，因此取出前面k個元素（[0:3]代表前面0,1,2個）也就是距離最小的k個\n",
    "        \n",
    "        # 獲取這k個最近距離資料的label\n",
    "        k_nearest_labels = self.y_train[k_indices].tolist()\n",
    "        \n",
    "        # 對這k個最近距離資料進行投票確定測驗資料屬於哪個類別\n",
    "        most_common = np.bincount(k_nearest_labels) # 將label排出順序大小後回傳出現次數（例如[0,5,3,2,3,1,4,2,4]回傳[1,1,2,2,2,1]）\n",
    "        return most_common.argmax() # 最後回傳的會是該測驗資料的最終決定分類，因此回傳最近資料中出現最多次的label\n",
    "\n",
    "\n",
    "# 初始設定一個k=3的KNN分類器\n",
    "knn = KNNClassifier(k=3)\n",
    "\n",
    "# 輸入訓練資料訓練該KNN模型\n",
    "knn.fit(train[0:25000], train_label[0:25000])\n",
    "\n",
    "# 對於測驗資料進行預測\n",
    "predictions = knn.predict(test, mode = 2)\n",
    "\n",
    "print(f\"accuracy percentage:{round(accuracy_score(predictions, test_label) * 100, 4)}%\")"
   ]
  },
  {
   "cell_type": "markdown",
   "metadata": {},
   "source": [
    "### 3. Naïve Decision Tree Classifier :\n",
    "• Implement a basic decision tree classifier.\\\n",
    "• Note: This is a naïve implementation without any pruning."
   ]
  },
  {
   "cell_type": "markdown",
   "metadata": {},
   "source": [
    "### 4. Decision Tree with Pruning :\n",
    "• Implement a decision tree classifier that incorporates a pruning algorithm.\\\n",
    "• Clearly explain the type of pruning algorithm and criterion used to prune nodes in\n",
    "the decision tree."
   ]
  },
  {
   "cell_type": "code",
   "execution_count": 258,
   "metadata": {},
   "outputs": [],
   "source": [
    "# 首先定義節點\n",
    "class Node():\n",
    "    def __init__(self, feature_index=None, threshold=None, left=None, right=None, info_gain=None, value=None):\n",
    "\n",
    "        # for decision node\n",
    "        self.feature_index = feature_index\n",
    "        self.threshold = threshold\n",
    "        self.left = left\n",
    "        self.right = right\n",
    "        self.info_gain = info_gain\n",
    "        \n",
    "        # for leaf node\n",
    "        self.value = value\n",
    "\n",
    "class DecisionTreeClassifier():\n",
    "    def __init__(self, min_samples_split=2, max_depth=None, mode=\"gini\"): # 最少要有兩筆資料，才可以分群，以及最多設定兩個節點 >>>>> 結束條件，令普通設定是沒有要預剪枝的，因此深度設定是沒有（會drop掉feature）\n",
    "\n",
    "        # initialize the root of the tree \n",
    "        self.root = None\n",
    "        \n",
    "        # stopping conditions\n",
    "        self.min_samples_split = min_samples_split\n",
    "        self.max_depth = max_depth \n",
    "\n",
    "        # mode判斷計算熵方式\n",
    "        self.mode = mode\n",
    "        \n",
    "    def build_tree(self, dataset, curr_depth=0):\n",
    "\n",
    "        X, Y = dataset[:,:-1], dataset[:,-1] # X:內建假設最後一行資料為label因此刪除最後一行當成訓練資料, Y: 擷取資料最後一行的label\n",
    "        num_samples, num_features = np.shape(X) # 回傳樣本數，即所有資料數量並且回傳特徵數（列、行）\n",
    "        all_rows_same = np.all(X == X[0, :], axis=1) # 剩下的資料全部都一樣會導致分不了出現錯誤，因此需要多判斷\n",
    "\n",
    "        # split until stopping conditions are met\n",
    "        if self.max_depth is None:  # 如果不需要剪枝就會進來這裡\n",
    "            if num_samples>=self.min_samples_split and X.size > 0 and not all_rows_same.all(): # 如果現在樣本數大於2並且節點（深度）小於兩層/個則可以進行split \"並且判斷如果現在已經沒有特徵可以分類就會跳出並結束分類（沒有預剪枝情況下）\"\n",
    "                # find the best split\n",
    "                best_split = self.get_best_split(dataset, num_samples, num_features)\n",
    "                # check if information gain is positive\n",
    "                if best_split[\"info_gain\"]>0:\n",
    "                    # recur left\n",
    "                    left_subtree = self.build_tree(best_split[\"dataset_left\"], curr_depth+1)  # 根據分類點分成左右兩部分資料後，左右兩部分資料再根據之前步驟去分下去（並且數的深度加一代表已存在幾個節點）\n",
    "                    # recur right\n",
    "                    right_subtree = self.build_tree(best_split[\"dataset_right\"], curr_depth+1)\n",
    "                    # return decision node\n",
    "                    return Node(best_split[\"feature_index\"], best_split[\"threshold\"], \n",
    "                                left_subtree, right_subtree, best_split[\"info_gain\"])\n",
    "        else: # 如果有需要預先剪枝就會進來這裡，判斷現在深度是否有到達設定深度之前，只要資料量大於兩筆就會進行細分\n",
    "            if num_samples>=self.min_samples_split and curr_depth<=self.max_depth and not all_rows_same.all(): # 如果現在樣本數大於2並且節點（深度）小於兩層/個則可以進行split (有預剪枝情況下）\n",
    "                # find the best split\n",
    "                best_split = self.get_best_split(dataset, num_samples, num_features)\n",
    "                # check if information gain is positive\n",
    "                if best_split[\"info_gain\"]>0:\n",
    "                    # recur left\n",
    "                    left_subtree = self.build_tree(best_split[\"dataset_left\"], curr_depth+1)  # 根據分類點分成左右兩部分資料後，左右兩部分資料再根據之前步驟去分下去（並且數的深度加一代表已存在幾個節點）\n",
    "                    # recur right\n",
    "                    right_subtree = self.build_tree(best_split[\"dataset_right\"], curr_depth+1)\n",
    "                    # return decision node\n",
    "                    return Node(best_split[\"feature_index\"], best_split[\"threshold\"], \n",
    "                                left_subtree, right_subtree, best_split[\"info_gain\"])\n",
    "        \n",
    "        # compute leaf node\n",
    "        leaf_value = self.calculate_leaf_value(Y)\n",
    "        # return leaf node\n",
    "        return Node(value=leaf_value)\n",
    "    \n",
    "    def get_best_split(self, dataset, num_samples, num_features): # 找到最佳的資料分割點\n",
    "        ''' function to find the best split '''\n",
    "    # dictionary to store the best split\n",
    "        best_split = {}\n",
    "        max_info_gain = -float(\"inf\") # -Inf代表負無限\n",
    "        \n",
    "        # loop over all the features\n",
    "        for feature_index in range(num_features):\n",
    "            feature_values = dataset[:, feature_index]\n",
    "            possible_thresholds = np.unique(feature_values)  # 將該特徵資料內容有出現的元素集合起來（可能之後分類的點）\n",
    "            # loop over all the feature values present in the data\n",
    "            for threshold in possible_thresholds:\n",
    "                # get current split\n",
    "                # 根據定義的split函數，將資料根據不同特徵內出現過的某個數值/類別分割成兩個資料\n",
    "                dataset_left, dataset_right = self.split(dataset, feature_index, threshold) \n",
    "                # check if childs are not null\n",
    "                if len(dataset_left)>0 and len(dataset_right)>0:\n",
    "                    y, left_y, right_y = dataset[:, -1], dataset_left[:, -1], dataset_right[:, -1] # 將分成兩部分資料的 label與全部的label擷取出來\n",
    "                    # compute information gain\n",
    "                    curr_info_gain = self.information_gain(y, left_y, right_y) # 首先判斷分成兩部分的資料長度（不可以為零），之後去判斷兩部分資料的訊息量\n",
    "                    # update the best split if needed\n",
    "                    if curr_info_gain>max_info_gain : #如果現在特徵分類的比較2好，代表訊息量會較高，因此如果訊息量較之前分類的高，則我們更新分類的節點\n",
    "                        best_split[\"feature_index\"] = feature_index\n",
    "                        best_split[\"threshold\"] = threshold\n",
    "                        best_split[\"dataset_left\"] = dataset_left\n",
    "                        best_split[\"dataset_right\"] = dataset_right\n",
    "                        best_split[\"info_gain\"] = curr_info_gain\n",
    "                        max_info_gain = curr_info_gain\n",
    "        \n",
    "        if self.max_depth is None: # 如果沒有設定要預剪枝，則需要drop feature避免不會停止\n",
    "            # drop best feature(避免重複判斷最佳的特徵導致不會停止)(如果不設定預剪枝)\n",
    "            best_split[\"dataset_right\"] = np.delete(best_split[\"dataset_right\"], best_split[\"feature_index\"], axis=1)\n",
    "            best_split[\"dataset_left\"] = np.delete(best_split[\"dataset_left\"], best_split[\"feature_index\"], axis=1)\n",
    "            \n",
    "\n",
    "        # return best split\n",
    "        return best_split\n",
    "    \n",
    "    def split(self, dataset, feature_index, threshold): # 將資料以設定的特定特徵的某筆資料，將資料分成大於該筆資料數值的部分和小於該筆資料數值的部分\n",
    "        ''' function to split the data '''\n",
    "        \n",
    "        dataset_left = np.array([row for row in dataset if row[feature_index]<=threshold])\n",
    "        dataset_right = np.array([row for row in dataset if row[feature_index]>threshold])\n",
    "        return dataset_left, dataset_right\n",
    "    \n",
    "    def information_gain(self, parent, l_child, r_child): # 計算該分類節點與標準的訊息純度，利用熵與吉尼布純度兩種方法計算判斷（default 為利用熵計算判斷）\n",
    "        ''' function to compute information gain '''\n",
    "        \n",
    "        weight_l = len(l_child) / len(parent)\n",
    "        weight_r = len(r_child) / len(parent)\n",
    "        if self.mode==\"gini\":\n",
    "            gain = self.gini_index(parent) - (weight_l*self.gini_index(l_child) + weight_r*self.gini_index(r_child)) # 根據gini計算information gain\n",
    "        else:\n",
    "            gain = self.entropy(parent) - (weight_l*self.entropy(l_child) + weight_r*self.entropy(r_child)) # 根據熵計算information gain\n",
    "        return gain\n",
    "    \n",
    "    def entropy(self, y): # 計算分類節點的熵\n",
    "        ''' function to compute entropy '''\n",
    "    \n",
    "        class_labels = np.unique(y)\n",
    "        entropy = 0\n",
    "        for cls in class_labels:\n",
    "            p_cls = len(y[y == cls]) / len(y) # 計算出分類後的機率值\n",
    "            entropy += -p_cls * np.log2(p_cls) # 熵的計算公式\n",
    "        return entropy \n",
    "    \n",
    "    def gini_index(self, y):\n",
    "        ''' function to compute gini index '''\n",
    "        \n",
    "        class_labels = np.unique(y)\n",
    "        gini = 0\n",
    "        for cls in class_labels:\n",
    "            p_cls = len(y[y == cls]) / len(y) # 計算出分類後的機率值\n",
    "            gini += p_cls**2 # gini的計算公式\n",
    "        return 1 - gini\n",
    "        \n",
    "    def calculate_leaf_value(self, Y):\n",
    "        ''' function to compute leaf node '''\n",
    "        \n",
    "        Y = list(Y)\n",
    "        return max(Y, key=Y.count)\n",
    "    \n",
    "    def print_tree(self, tree=None, indent=\" \"):\n",
    "        ''' function to print the tree '''\n",
    "        \n",
    "        if not tree:\n",
    "            tree = self.root\n",
    "\n",
    "        if tree.value is not None:\n",
    "            print(tree.value)\n",
    "\n",
    "        else:\n",
    "            print(\"X_\"+str(tree.feature_index), \"<=\", tree.threshold, \"?\", tree.info_gain)\n",
    "            print(\"%sleft:\" % (indent), end=\"\")\n",
    "            self.print_tree(tree.left, indent + indent)\n",
    "            print(\"%sright:\" % (indent), end=\"\")\n",
    "            self.print_tree(tree.right, indent + indent)\n",
    "    \n",
    "    def fit(self, X, Y):\n",
    "        ''' function to train the tree '''\n",
    "        \n",
    "        dataset = np.concatenate((X, Y), axis=1) # 把訓練資料的特徵與label合併起來，注意label資料需變成樣本數x1的陣列:[[0],[1],[0]...]\n",
    "        self.root = self.build_tree(dataset)\n",
    "    \n",
    "    def predict(self, X):\n",
    "        ''' function to predict new dataset '''\n",
    "        \n",
    "        preditions = [self.make_prediction(x, self.root) for x in X]\n",
    "        return preditions\n",
    "    \n",
    "    def make_prediction(self, x, tree):\n",
    "        ''' function to predict a single data point '''\n",
    "        \n",
    "        if tree.value!=None: return tree.value\n",
    "        feature_val = x[tree.feature_index]\n",
    "        if feature_val<=tree.threshold:\n",
    "            return self.make_prediction(x, tree.left)\n",
    "        else:\n",
    "            return self.make_prediction(x, tree.right)\n"
   ]
  },
  {
   "cell_type": "markdown",
   "metadata": {},
   "source": [
    "#### Naïve Decision Tree Classifier :"
   ]
  },
  {
   "cell_type": "code",
   "execution_count": 259,
   "metadata": {},
   "outputs": [
    {
     "name": "stdout",
     "output_type": "stream",
     "text": [
      "accuracy percentage:91.7976%\n"
     ]
    }
   ],
   "source": [
    "# train = train[:500]\n",
    "# train_label = train_label[:500].reshape(-1,1)\n",
    "# test = test[500:700]\n",
    "# test_label = test_label[500:700].reshape(-1,1)\n",
    "\n",
    "# Fit the model\n",
    "classifier = DecisionTreeClassifier(min_samples_split=50) # 沒有設定深度（No預剪枝）\n",
    "classifier.fit(train[:10000],train_label[:10000].reshape(-1,1))\n",
    "\n",
    "predictions = classifier.predict(test[10000:15000]) \n",
    "print(f\"accuracy percentage:{round(accuracy_score(predictions, test_label[10000:15000].reshape(-1,1)) * 100, 4)}%\")"
   ]
  },
  {
   "cell_type": "markdown",
   "metadata": {},
   "source": [
    "#### Decision Tree with Pruning"
   ]
  },
  {
   "cell_type": "code",
   "execution_count": 263,
   "metadata": {},
   "outputs": [
    {
     "name": "stdout",
     "output_type": "stream",
     "text": [
      "accuracy percentage:94.1827%\n"
     ]
    }
   ],
   "source": [
    "# train = train[:3000]\n",
    "# train_label = train_label[:3000].reshape(-1,1)\n",
    "# test = test[3000:5000]\n",
    "# test_label = test_label[3000:5000].reshape(-1,1)\n",
    "# Fit the model\n",
    "classifier = DecisionTreeClassifier(min_samples_split=50, max_depth=3) # 有設定深度（預剪枝）\n",
    "classifier.fit(train[:10000],train_label[:10000].reshape(-1,1))\n",
    "\n",
    "predictions = classifier.predict(test[10000:15000]) \n",
    "print(f\"accuracy percentage:{round(accuracy_score(predictions, test_label[10000:15000].reshape(-1,1)) * 100, 4)}%\")"
   ]
  },
  {
   "cell_type": "markdown",
   "metadata": {},
   "source": [
    " # Feature engineering:"
   ]
  },
  {
   "cell_type": "markdown",
   "metadata": {},
   "source": [
    "##### Implement an algorithm that can determine the \"feature importance\" for both linear classifiers and decision trees. Explain the rationale behind your chosen algorithm."
   ]
  },
  {
   "cell_type": "code",
   "execution_count": 240,
   "metadata": {},
   "outputs": [
    {
     "name": "stdout",
     "output_type": "stream",
     "text": [
      "['is_tpms' 'displacement' 'gross_weight' 'Category_M4'\n",
      " 'Category_200Nm@3000rpm' 'Category_85Nm@3000rpm'\n",
      " 'Category_1.2 L K12N Dualjet' 'Category_Drum']\n"
     ]
    }
   ],
   "source": [
    "print(train_column_names.values[(np.where(np.abs(linearclass.weights) > 2))])"
   ]
  },
  {
   "cell_type": "code",
   "execution_count": 241,
   "metadata": {},
   "outputs": [
    {
     "data": {
      "text/plain": [
       "array([['policy_tenure', 'age_of_car', 'age_of_policyholder', 'height']],\n",
       "      dtype=object)"
      ]
     },
     "execution_count": 241,
     "metadata": {},
     "output_type": "execute_result"
    }
   ],
   "source": [
    "# classifier.print_tree() print出決策樹結果看節點\n",
    "train_column_names.values.reshape(1,-1)[:,[0,1,2,17]]"
   ]
  },
  {
   "cell_type": "markdown",
   "metadata": {},
   "source": [
    "Utilize SHAP (https://shap.readthedocs.io/en/latest/) with your implemented algorithm to assess feature importance. Compare your findings with those obtained using SHAP."
   ]
  },
  {
   "cell_type": "code",
   "execution_count": 188,
   "metadata": {},
   "outputs": [
    {
     "data": {
      "image/png": "[encoded data removed]",
      "text/plain": [
       "<Figure size 800x950 with 1 Axes>"
      ]
     },
     "metadata": {},
     "output_type": "display_data"
    }
   ],
   "source": [
    "# train = pd.read_csv('tidy_train.csv') # load處理完的data\n",
    "# train.drop(columns=['Unnamed: 0'], inplace = True)\n",
    "\n",
    "# X = train.drop(columns=['is_claim'])\n",
    "# y = train.is_claim\n",
    "\n",
    "# X_train, X_test, y_train, y_test = train_test_split(X, y, test_size=0.2, random_state=42)\n",
    "\n",
    "from sklearn.tree import DecisionTreeClassifier\n",
    "import shap\n",
    "\n",
    "# 創建一個決策樹分類器\n",
    "tree_package = DecisionTreeClassifier()\n",
    "tree_package.fit(ori_X_train, ori_y_train)\n",
    "tree_explainer = shap.TreeExplainer(tree_package).shap_values(ori_X_test)\n",
    "\n",
    "# 顯示 SHAP 摘要圖\n",
    "shap.summary_plot(tree_explainer, ori_X_test)"
   ]
  },
  {
   "cell_type": "markdown",
   "metadata": {},
   "source": [
    " It is known that sometimes the original feature set may not be effective. Designing new features based on the original set is crucial for model performance. Based on your observations and experience, propose an algorithm that can derive new features to enhance model accuracy."
   ]
  },
  {
   "cell_type": "code",
   "execution_count": 242,
   "metadata": {},
   "outputs": [],
   "source": [
    "# 將線性分類器中認為較好的特徵拿出來進行PCA\n",
    "new_feature = train[:,np.where(np.abs(linearclass.weights) > 1.5)[0]]\n",
    "new_test = test[:,np.where(np.abs(linearclass.weights) > 1.5)[0]]\n",
    "\n",
    "# 計算共變異數矩陣\n",
    "covariance_matrix_train = np.cov(new_feature, rowvar=False)\n",
    "covariance_matrix_test = np.cov(new_test, rowvar=False)\n",
    "\n",
    "# 進行特徵值分解\n",
    "eigenvalues_train, eigenvectors_train = np.linalg.eigh(covariance_matrix_train)\n",
    "eigenvalues_test, eigenvectors_test = np.linalg.eigh(covariance_matrix_test)\n",
    "\n",
    "# 對特徵向量按照特徵數值大小做排序\n",
    "sorted_indices_train = np.argsort(eigenvalues_train)[::-1]\n",
    "eigenvectors_sorted_train = eigenvectors_train[:, sorted_indices_train]\n",
    "sorted_indices_test = np.argsort(eigenvalues_test)[::-1]\n",
    "eigenvectors_sorted_test = eigenvectors_test[:, sorted_indices_test]\n",
    "\n",
    "# 選擇我們要保留的主成份（這裡選擇前兩個主成份）\n",
    "num_components = 2\n",
    "principal_components_train = eigenvectors_sorted_train[:, :num_components]\n",
    "principal_components_test = eigenvectors_sorted_test[:, :num_components]\n",
    "\n",
    "# 投影到主成分上\n",
    "data_pca = np.dot(new_feature, principal_components_train)\n",
    "test_pca = np.dot(new_test, principal_components_test)"
   ]
  },
  {
   "cell_type": "code",
   "execution_count": 250,
   "metadata": {},
   "outputs": [
    {
     "name": "stderr",
     "output_type": "stream",
     "text": [
      "  0%|          | 0/46873 [00:00<?, ?it/s]"
     ]
    },
    {
     "name": "stderr",
     "output_type": "stream",
     "text": [
      "100%|██████████| 46873/46873 [00:00<00:00, 301071.38it/s]"
     ]
    },
    {
     "name": "stdout",
     "output_type": "stream",
     "text": [
      "accuracy percentage:93.6513%\n",
      "Counter({0: 10975, 1: 744})\n",
      "Counter({0: 11719})\n"
     ]
    },
    {
     "name": "stderr",
     "output_type": "stream",
     "text": [
      "\n"
     ]
    }
   ],
   "source": [
    "\n",
    "\n",
    "linearclassPCA = LinearClassifier(learning_rate=1e-4)\n",
    "rd.seed(10)\n",
    "# 輸入訓練資料進行訓練\n",
    "linearclassPCA.fit(data_pca, train_label)\n",
    "\n",
    "# 利用切好的test資料進行預測\n",
    "predictions = [linearclassPCA.predict(x) for x in test_pca]\n",
    "\n",
    "print(f\"accuracy percentage:{round(accuracy_score(predictions, test_label) * 100, 4)}%\")\n",
    "print(collections.Counter(test_label))\n",
    "print(collections.Counter(predictions))"
   ]
  },
  {
   "cell_type": "markdown",
   "metadata": {},
   "source": [
    "# Cross-Validation:\n",
    "Based on Problem 1, use k-fold cross-validation to verify the stability of each classifier. Note that cross-validation could adopt any existing package. Answer the questions below:"
   ]
  },
  {
   "cell_type": "markdown",
   "metadata": {},
   "source": [
    "### 1. set k=3,5,10, and make some discussions of your observation."
   ]
  },
  {
   "cell_type": "markdown",
   "metadata": {},
   "source": [
    "##### linear classifier"
   ]
  },
  {
   "cell_type": "code",
   "execution_count": 251,
   "metadata": {},
   "outputs": [
    {
     "name": "stdout",
     "output_type": "stream",
     "text": [
      "K=3\n"
     ]
    },
    {
     "name": "stderr",
     "output_type": "stream",
     "text": [
      "100%|██████████| 31248/31248 [00:00<00:00, 36693.20it/s]\n"
     ]
    },
    {
     "name": "stdout",
     "output_type": "stream",
     "text": [
      "validation accuracy:85.2032%\n"
     ]
    },
    {
     "name": "stderr",
     "output_type": "stream",
     "text": [
      "100%|██████████| 31249/31249 [00:00<00:00, 36410.26it/s]\n"
     ]
    },
    {
     "name": "stdout",
     "output_type": "stream",
     "text": [
      "validation accuracy:89.4329%\n"
     ]
    },
    {
     "name": "stderr",
     "output_type": "stream",
     "text": [
      "100%|██████████| 31249/31249 [00:00<00:00, 36389.82it/s]\n"
     ]
    },
    {
     "name": "stdout",
     "output_type": "stream",
     "text": [
      "validation accuracy:89.1193%\n",
      "Mean Prediction accuracy:87.91846666666667\n",
      "K=5\n"
     ]
    },
    {
     "name": "stderr",
     "output_type": "stream",
     "text": [
      "100%|██████████| 37498/37498 [00:00<00:00, 37700.00it/s]\n"
     ]
    },
    {
     "name": "stdout",
     "output_type": "stream",
     "text": [
      "validation accuracy:89.376%\n"
     ]
    },
    {
     "name": "stderr",
     "output_type": "stream",
     "text": [
      "100%|██████████| 37498/37498 [00:01<00:00, 37364.34it/s]\n"
     ]
    },
    {
     "name": "stdout",
     "output_type": "stream",
     "text": [
      "validation accuracy:90.304%\n"
     ]
    },
    {
     "name": "stderr",
     "output_type": "stream",
     "text": [
      "100%|██████████| 37498/37498 [00:01<00:00, 36359.90it/s]\n"
     ]
    },
    {
     "name": "stdout",
     "output_type": "stream",
     "text": [
      "validation accuracy:89.0453%\n"
     ]
    },
    {
     "name": "stderr",
     "output_type": "stream",
     "text": [
      "100%|██████████| 37499/37499 [00:01<00:00, 36491.48it/s]\n"
     ]
    },
    {
     "name": "stdout",
     "output_type": "stream",
     "text": [
      "validation accuracy:90.3456%\n"
     ]
    },
    {
     "name": "stderr",
     "output_type": "stream",
     "text": [
      "100%|██████████| 37499/37499 [00:01<00:00, 36360.72it/s]\n"
     ]
    },
    {
     "name": "stdout",
     "output_type": "stream",
     "text": [
      "validation accuracy:91.8071%\n",
      "Mean Prediction accuracy:90.1756\n",
      "K=10\n"
     ]
    },
    {
     "name": "stderr",
     "output_type": "stream",
     "text": [
      "100%|██████████| 42185/42185 [00:01<00:00, 36637.81it/s]\n"
     ]
    },
    {
     "name": "stdout",
     "output_type": "stream",
     "text": [
      "validation accuracy:91.1903%\n"
     ]
    },
    {
     "name": "stderr",
     "output_type": "stream",
     "text": [
      "100%|██████████| 42185/42185 [00:01<00:00, 36048.13it/s]\n"
     ]
    },
    {
     "name": "stdout",
     "output_type": "stream",
     "text": [
      "validation accuracy:88.5879%\n"
     ]
    },
    {
     "name": "stderr",
     "output_type": "stream",
     "text": [
      "100%|██████████| 42185/42185 [00:01<00:00, 34952.92it/s]\n"
     ]
    },
    {
     "name": "stdout",
     "output_type": "stream",
     "text": [
      "validation accuracy:89.5051%\n"
     ]
    },
    {
     "name": "stderr",
     "output_type": "stream",
     "text": [
      "100%|██████████| 42186/42186 [00:01<00:00, 36116.82it/s]\n"
     ]
    },
    {
     "name": "stdout",
     "output_type": "stream",
     "text": [
      "validation accuracy:91.039%\n"
     ]
    },
    {
     "name": "stderr",
     "output_type": "stream",
     "text": [
      "100%|██████████| 42186/42186 [00:01<00:00, 36244.35it/s]\n"
     ]
    },
    {
     "name": "stdout",
     "output_type": "stream",
     "text": [
      "validation accuracy:86.8146%\n"
     ]
    },
    {
     "name": "stderr",
     "output_type": "stream",
     "text": [
      "100%|██████████| 42186/42186 [00:01<00:00, 36228.26it/s]\n"
     ]
    },
    {
     "name": "stdout",
     "output_type": "stream",
     "text": [
      "validation accuracy:91.5938%\n"
     ]
    },
    {
     "name": "stderr",
     "output_type": "stream",
     "text": [
      "100%|██████████| 42186/42186 [00:01<00:00, 35108.08it/s]\n"
     ]
    },
    {
     "name": "stdout",
     "output_type": "stream",
     "text": [
      "validation accuracy:90.975%\n"
     ]
    },
    {
     "name": "stderr",
     "output_type": "stream",
     "text": [
      "100%|██████████| 42186/42186 [00:01<00:00, 33521.74it/s]\n"
     ]
    },
    {
     "name": "stdout",
     "output_type": "stream",
     "text": [
      "validation accuracy:87.2413%\n"
     ]
    },
    {
     "name": "stderr",
     "output_type": "stream",
     "text": [
      "100%|██████████| 42186/42186 [00:01<00:00, 36746.68it/s]\n"
     ]
    },
    {
     "name": "stdout",
     "output_type": "stream",
     "text": [
      "validation accuracy:91.1244%\n"
     ]
    },
    {
     "name": "stderr",
     "output_type": "stream",
     "text": [
      "100%|██████████| 42186/42186 [00:01<00:00, 35018.66it/s]"
     ]
    },
    {
     "name": "stdout",
     "output_type": "stream",
     "text": [
      "validation accuracy:82.6115%\n",
      "Mean Prediction accuracy:89.06829\n"
     ]
    },
    {
     "name": "stderr",
     "output_type": "stream",
     "text": [
      "\n"
     ]
    }
   ],
   "source": [
    "from sklearn.model_selection import cross_val_score\n",
    "from sklearn. model_selection import KFold\n",
    "\n",
    "def Average(lst): \n",
    "    return sum(lst) / len(lst) \n",
    "\n",
    "linearclass = LinearClassifier(learning_rate=1e-3)\n",
    "kf = KFold (n_splits=3) # K = 3\n",
    "print(\"K=3\")\n",
    "K3PA = []\n",
    "for train_index, val_index in kf.split(train):\n",
    "    X_train, X_val = train[train_index], train[val_index]\n",
    "    y_train, y_val = train_label[train_index], train_label[val_index]\n",
    "    linearclass.fit(X_train, y_train)\n",
    "    predictions = [linearclass.predict(x) for x in X_val]\n",
    "    K3PA.append(round(accuracy_score(predictions, y_val) * 100, 4))\n",
    "    print(f\"validation accuracy:{round(accuracy_score(predictions, y_val) * 100, 4)}%\")\n",
    "print(f\"Mean Prediction accuracy:{Average(K3PA)}\")\n",
    "\n",
    "kf = KFold (n_splits=5) # K = 5\n",
    "print(\"K=5\")\n",
    "K5PA = []\n",
    "for train_index, val_index in kf.split(train):\n",
    "    X_train, X_val = train[train_index], train[val_index]\n",
    "    y_train, y_val = train_label[train_index], train_label[val_index]\n",
    "    linearclass.fit(X_train, y_train)\n",
    "    predictions = [linearclass.predict(x) for x in X_val]\n",
    "    K5PA.append(round(accuracy_score(predictions, y_val) * 100, 4))\n",
    "    print(f\"validation accuracy:{round(accuracy_score(predictions, y_val) * 100, 4)}%\")\n",
    "print(f\"Mean Prediction accuracy:{Average(K5PA)}\")\n",
    "\n",
    "kf = KFold (n_splits=10) # K = 10\n",
    "print(\"K=10\")\n",
    "K10PA = []\n",
    "for train_index, val_index in kf.split(train):\n",
    "    X_train, X_val = train[train_index], train[val_index]\n",
    "    y_train, y_val = train_label[train_index], train_label[val_index]\n",
    "    linearclass.fit(X_train, y_train)\n",
    "    predictions = [linearclass.predict(x) for x in X_val]\n",
    "    K10PA.append(round(accuracy_score(predictions, y_val) * 100, 4))\n",
    "    print(f\"validation accuracy:{round(accuracy_score(predictions, y_val) * 100, 4)}%\")\n",
    "print(f\"Mean Prediction accuracy:{Average(K10PA)}\")\n"
   ]
  },
  {
   "cell_type": "markdown",
   "metadata": {},
   "source": [
    "##### K-NN Classifier"
   ]
  },
  {
   "cell_type": "code",
   "execution_count": 254,
   "metadata": {},
   "outputs": [
    {
     "name": "stdout",
     "output_type": "stream",
     "text": [
      "K=3\n"
     ]
    },
    {
     "name": "stderr",
     "output_type": "stream",
     "text": [
      "Processing List:   0%|          | 0/15625 [00:00<?, ?x/s]"
     ]
    },
    {
     "name": "stderr",
     "output_type": "stream",
     "text": [
      "Processing List: 100%|██████████| 15625/15625 [00:01<00:00, 9266.66x/s]\n"
     ]
    },
    {
     "name": "stdout",
     "output_type": "stream",
     "text": [
      "validation accuracy:92.8064%\n"
     ]
    },
    {
     "name": "stderr",
     "output_type": "stream",
     "text": [
      "Processing List: 100%|██████████| 15624/15624 [00:01<00:00, 9499.46x/s]\n"
     ]
    },
    {
     "name": "stdout",
     "output_type": "stream",
     "text": [
      "validation accuracy:93.2988%\n"
     ]
    },
    {
     "name": "stderr",
     "output_type": "stream",
     "text": [
      "Processing List: 100%|██████████| 15624/15624 [00:01<00:00, 9604.45x/s]\n"
     ]
    },
    {
     "name": "stdout",
     "output_type": "stream",
     "text": [
      "validation accuracy:93.2732%\n",
      "Mean Prediction accuracy:93.12613333333333\n",
      "K=5\n"
     ]
    },
    {
     "name": "stderr",
     "output_type": "stream",
     "text": [
      "Processing List: 100%|██████████| 9375/9375 [00:01<00:00, 9318.51x/s]\n"
     ]
    },
    {
     "name": "stdout",
     "output_type": "stream",
     "text": [
      "validation accuracy:92.64%\n"
     ]
    },
    {
     "name": "stderr",
     "output_type": "stream",
     "text": [
      "Processing List: 100%|██████████| 9375/9375 [00:01<00:00, 9200.42x/s]\n"
     ]
    },
    {
     "name": "stdout",
     "output_type": "stream",
     "text": [
      "validation accuracy:93.3653%\n"
     ]
    },
    {
     "name": "stderr",
     "output_type": "stream",
     "text": [
      "Processing List: 100%|██████████| 9375/9375 [00:01<00:00, 8697.45x/s]\n"
     ]
    },
    {
     "name": "stdout",
     "output_type": "stream",
     "text": [
      "validation accuracy:93.568%\n"
     ]
    },
    {
     "name": "stderr",
     "output_type": "stream",
     "text": [
      "Processing List: 100%|██████████| 9374/9374 [00:01<00:00, 9118.93x/s]\n"
     ]
    },
    {
     "name": "stdout",
     "output_type": "stream",
     "text": [
      "validation accuracy:93.0339%\n"
     ]
    },
    {
     "name": "stderr",
     "output_type": "stream",
     "text": [
      "Processing List: 100%|██████████| 9374/9374 [00:01<00:00, 7886.91x/s]\n"
     ]
    },
    {
     "name": "stdout",
     "output_type": "stream",
     "text": [
      "validation accuracy:93.45%\n",
      "Mean Prediction accuracy:93.21144000000001\n",
      "K=10\n"
     ]
    },
    {
     "name": "stderr",
     "output_type": "stream",
     "text": [
      "Processing List: 100%|██████████| 4688/4688 [00:00<00:00, 8751.54x/s]\n"
     ]
    },
    {
     "name": "stdout",
     "output_type": "stream",
     "text": [
      "validation accuracy:93.7287%\n"
     ]
    },
    {
     "name": "stderr",
     "output_type": "stream",
     "text": [
      "Processing List: 100%|██████████| 4688/4688 [00:00<00:00, 10234.20x/s]\n"
     ]
    },
    {
     "name": "stdout",
     "output_type": "stream",
     "text": [
      "validation accuracy:93.43%\n"
     ]
    },
    {
     "name": "stderr",
     "output_type": "stream",
     "text": [
      "Processing List: 100%|██████████| 4688/4688 [00:00<00:00, 9056.82x/s]\n"
     ]
    },
    {
     "name": "stdout",
     "output_type": "stream",
     "text": [
      "validation accuracy:93.7927%\n"
     ]
    },
    {
     "name": "stderr",
     "output_type": "stream",
     "text": [
      "Processing List: 100%|██████████| 4687/4687 [00:00<00:00, 10236.78x/s]\n"
     ]
    },
    {
     "name": "stdout",
     "output_type": "stream",
     "text": [
      "validation accuracy:92.9379%\n"
     ]
    },
    {
     "name": "stderr",
     "output_type": "stream",
     "text": [
      "Processing List: 100%|██████████| 4687/4687 [00:00<00:00, 8635.01x/s]\n"
     ]
    },
    {
     "name": "stdout",
     "output_type": "stream",
     "text": [
      "validation accuracy:93.45%\n"
     ]
    },
    {
     "name": "stderr",
     "output_type": "stream",
     "text": [
      "Processing List: 100%|██████████| 4687/4687 [00:00<00:00, 8895.86x/s]\n"
     ]
    },
    {
     "name": "stdout",
     "output_type": "stream",
     "text": [
      "validation accuracy:93.6847%\n"
     ]
    },
    {
     "name": "stderr",
     "output_type": "stream",
     "text": [
      "Processing List: 100%|██████████| 4687/4687 [00:00<00:00, 9209.50x/s]\n"
     ]
    },
    {
     "name": "stdout",
     "output_type": "stream",
     "text": [
      "validation accuracy:93.1086%\n"
     ]
    },
    {
     "name": "stderr",
     "output_type": "stream",
     "text": [
      "Processing List: 100%|██████████| 4687/4687 [00:00<00:00, 9116.72x/s]\n"
     ]
    },
    {
     "name": "stdout",
     "output_type": "stream",
     "text": [
      "validation accuracy:92.9592%\n"
     ]
    },
    {
     "name": "stderr",
     "output_type": "stream",
     "text": [
      "Processing List: 100%|██████████| 4687/4687 [00:00<00:00, 9071.71x/s]\n"
     ]
    },
    {
     "name": "stdout",
     "output_type": "stream",
     "text": [
      "validation accuracy:93.45%\n"
     ]
    },
    {
     "name": "stderr",
     "output_type": "stream",
     "text": [
      "Processing List: 100%|██████████| 4687/4687 [00:00<00:00, 10231.02x/s]"
     ]
    },
    {
     "name": "stdout",
     "output_type": "stream",
     "text": [
      "validation accuracy:93.45%\n",
      "Mean Prediction accuracy:93.39918000000002\n"
     ]
    },
    {
     "name": "stderr",
     "output_type": "stream",
     "text": [
      "\n"
     ]
    }
   ],
   "source": [
    "knn = KNNClassifier(k=3)\n",
    "kf = KFold (n_splits=3) # K = 3\n",
    "print(\"K=3\")\n",
    "K3PA = []\n",
    "for train_index, val_index in kf.split(train):\n",
    "    X_train, X_val = train[train_index], train[val_index]\n",
    "    y_train, y_val = train_label[train_index], train_label[val_index]\n",
    "    knn.fit(X_train[0:500], y_train[0:500])\n",
    "    predictions = knn.predict(X_val, mode = 2)\n",
    "    K3PA.append(round(accuracy_score(predictions, y_val) * 100, 4))\n",
    "    print(f\"validation accuracy:{round(accuracy_score(predictions, y_val) * 100, 4)}%\")\n",
    "print(f\"Mean Prediction accuracy:{Average(K3PA)}\")\n",
    "\n",
    "kf = KFold (n_splits=5) # K = 5\n",
    "print(\"K=5\")\n",
    "K5PA = []\n",
    "for train_index, val_index in kf.split(train):\n",
    "    X_train, X_val = train[train_index], train[val_index]\n",
    "    y_train, y_val = train_label[train_index], train_label[val_index]\n",
    "    knn.fit(X_train[0:500], y_train[0:500])\n",
    "    predictions = knn.predict(X_val, mode = 2)\n",
    "    K5PA.append(round(accuracy_score(predictions, y_val) * 100, 4))\n",
    "    print(f\"validation accuracy:{round(accuracy_score(predictions, y_val) * 100, 4)}%\")\n",
    "print(f\"Mean Prediction accuracy:{Average(K5PA)}\")\n",
    "\n",
    "kf = KFold (n_splits=10) # K = 10\n",
    "print(\"K=10\")\n",
    "K10PA = []\n",
    "for train_index, val_index in kf.split(train):\n",
    "    X_train, X_val = train[train_index], train[val_index]\n",
    "    y_train, y_val = train_label[train_index], train_label[val_index]\n",
    "    knn.fit(X_train[0:500], y_train[0:500])\n",
    "    predictions = knn.predict(X_val, mode = 2)    \n",
    "    K10PA.append(round(accuracy_score(predictions, y_val) * 100, 4))\n",
    "    print(f\"validation accuracy:{round(accuracy_score(predictions, y_val) * 100, 4)}%\")\n",
    "print(f\"Mean Prediction accuracy:{Average(K10PA)}\")"
   ]
  },
  {
   "cell_type": "markdown",
   "metadata": {},
   "source": [
    "##### Naïve Decision Tree Classifier"
   ]
  },
  {
   "cell_type": "code",
   "execution_count": 261,
   "metadata": {},
   "outputs": [
    {
     "name": "stdout",
     "output_type": "stream",
     "text": [
      "K=3\n",
      "validation accuracy:92.3%\n",
      "validation accuracy:93.6%\n",
      "validation accuracy:92.6%\n",
      "Mean Prediction accuracy:92.83333333333333\n",
      "K=5\n",
      "validation accuracy:95.3%\n",
      "validation accuracy:92.8%\n",
      "validation accuracy:94.5%\n",
      "validation accuracy:93.6%\n",
      "validation accuracy:94.1%\n",
      "Mean Prediction accuracy:94.06000000000002\n",
      "K=10\n",
      "validation accuracy:94.9%\n",
      "validation accuracy:93.3%\n",
      "validation accuracy:92.8%\n",
      "validation accuracy:94.4%\n",
      "validation accuracy:94.5%\n",
      "validation accuracy:93.5%\n",
      "validation accuracy:93.6%\n",
      "validation accuracy:93.3%\n",
      "validation accuracy:94.1%\n",
      "validation accuracy:93.4%\n",
      "Mean Prediction accuracy:93.78\n"
     ]
    }
   ],
   "source": [
    "classifier = DecisionTreeClassifier(min_samples_split=50) # 沒有設定深度（No預剪枝）\n",
    "kf = KFold (n_splits=3) # K = 3\n",
    "print(\"K=3\")\n",
    "K3PA = []\n",
    "for train_index, val_index in kf.split(train):\n",
    "    X_train, X_val = train[train_index], train[val_index]\n",
    "    y_train, y_val = train_label[train_index], train_label[val_index]\n",
    "    classifier.fit(X_train[:2000],y_train[:2000].reshape(-1,1))\n",
    "    predictions = classifier.predict(X_val[:1000])\n",
    "    K3PA.append(round(accuracy_score(predictions, y_val[:1000]) * 100, 4))\n",
    "    print(f\"validation accuracy:{round(accuracy_score(predictions, y_val[:1000]) * 100, 4)}%\")\n",
    "print(f\"Mean Prediction accuracy:{Average(K3PA)}\")\n",
    "\n",
    "kf = KFold (n_splits=5) # K = 5\n",
    "print(\"K=5\")\n",
    "K5PA = []\n",
    "for train_index, val_index in kf.split(train):\n",
    "    X_train, X_val = train[train_index], train[val_index]\n",
    "    y_train, y_val = train_label[train_index], train_label[val_index]\n",
    "    classifier.fit(X_train[:2000],y_train[:2000].reshape(-1,1))\n",
    "    predictions = classifier.predict(X_val[:1000])\n",
    "    K5PA.append(round(accuracy_score(predictions, y_val[:1000]) * 100, 4))\n",
    "    print(f\"validation accuracy:{round(accuracy_score(predictions, y_val[:1000]) * 100, 4)}%\")\n",
    "print(f\"Mean Prediction accuracy:{Average(K5PA)}\")\n",
    "\n",
    "kf = KFold (n_splits=10) # K = 10\n",
    "print(\"K=10\")\n",
    "K10PA = []\n",
    "for train_index, val_index in kf.split(train):\n",
    "    X_train, X_val = train[train_index], train[val_index]\n",
    "    y_train, y_val = train_label[train_index], train_label[val_index]\n",
    "    classifier.fit(X_train[:2000],y_train[:2000].reshape(-1,1))\n",
    "    predictions = classifier.predict(X_val[:1000]) \n",
    "    K10PA.append(round(accuracy_score(predictions, y_val[:1000]) * 100, 4))\n",
    "    print(f\"validation accuracy:{round(accuracy_score(predictions, y_val[:1000]) * 100, 4)}%\")\n",
    "print(f\"Mean Prediction accuracy:{Average(K10PA)}\")"
   ]
  },
  {
   "cell_type": "markdown",
   "metadata": {},
   "source": [
    "##### Decision Tree with Pruning"
   ]
  },
  {
   "cell_type": "code",
   "execution_count": 262,
   "metadata": {},
   "outputs": [
    {
     "name": "stdout",
     "output_type": "stream",
     "text": [
      "K=3\n",
      "validation accuracy:94.7%\n",
      "validation accuracy:92.1%\n",
      "validation accuracy:91.7%\n",
      "Mean Prediction accuracy:92.89999999999999\n",
      "K=5\n",
      "validation accuracy:94.3%\n",
      "validation accuracy:91.3%\n",
      "validation accuracy:93.5%\n",
      "validation accuracy:92.5%\n",
      "validation accuracy:92.4%\n",
      "Mean Prediction accuracy:92.53750000000001\n",
      "K=10\n",
      "validation accuracy:92.8%\n",
      "validation accuracy:91.7%\n",
      "validation accuracy:91.3%\n",
      "validation accuracy:93.5%\n",
      "validation accuracy:93.5%\n",
      "validation accuracy:92.4%\n",
      "validation accuracy:92.5%\n",
      "validation accuracy:91.6%\n",
      "validation accuracy:92.4%\n",
      "validation accuracy:92.2%\n",
      "Mean Prediction accuracy:92.3722222222222\n"
     ]
    }
   ],
   "source": [
    "classifier = DecisionTreeClassifier(min_samples_split=50, max_depth=20) # 有設定深度（預剪枝）\n",
    "kf = KFold (n_splits=3) # K = 3\n",
    "print(\"K=3\")\n",
    "K3PA = []\n",
    "for train_index, val_index in kf.split(train):\n",
    "    X_train, X_val = train[train_index], train[val_index]\n",
    "    y_train, y_val = train_label[train_index], train_label[val_index]\n",
    "    classifier.fit(X_train[:2000],y_train[:2000].reshape(-1,1))\n",
    "    predictions = classifier.predict(X_val[2000:3000]) \n",
    "    K3PA.append(round(accuracy_score(predictions, y_val[2000:3000]) * 100, 4))\n",
    "    print(f\"validation accuracy:{round(accuracy_score(predictions, y_val[:1000]) * 100, 4)}%\")\n",
    "print(f\"Mean Prediction accuracy:{Average(K3PA)}\")\n",
    "\n",
    "kf = KFold (n_splits=5) # K = 5\n",
    "print(\"K=5\")\n",
    "K5PA = []\n",
    "for train_index, val_index in kf.split(train):\n",
    "    X_train, X_val = train[train_index], train[val_index]\n",
    "    y_train, y_val = train_label[train_index], train_label[val_index]\n",
    "    classifier.fit(X_train[:2000],y_train[:2000].reshape(-1,1))\n",
    "    predictions = classifier.predict(X_val[2000:3000]) \n",
    "    K3PA.append(round(accuracy_score(predictions, y_val[2000:3000]) * 100, 4))\n",
    "    print(f\"validation accuracy:{round(accuracy_score(predictions, y_val[:1000]) * 100, 4)}%\")\n",
    "print(f\"Mean Prediction accuracy:{Average(K3PA)}\")\n",
    "\n",
    "kf = KFold (n_splits=10) # K = 10\n",
    "print(\"K=10\")\n",
    "K10PA = []\n",
    "for train_index, val_index in kf.split(train):\n",
    "    X_train, X_val = train[train_index], train[val_index]\n",
    "    y_train, y_val = train_label[train_index], train_label[val_index]\n",
    "    classifier.fit(X_train[:2000],y_train[:2000].reshape(-1,1))\n",
    "    predictions = classifier.predict(X_val[2000:3000]) \n",
    "    K3PA.append(round(accuracy_score(predictions, y_val[2000:3000]) * 100, 4))\n",
    "    print(f\"validation accuracy:{round(accuracy_score(predictions, y_val[:1000]) * 100, 4)}%\")\n",
    "print(f\"Mean Prediction accuracy:{Average(K3PA)}\")"
   ]
  },
  {
   "cell_type": "markdown",
   "metadata": {},
   "source": [
    "### 2. Please design an algorithm that can merge/aggregate the predicted results from k classifiers in k-fold cross-validation. Compare the performance and complexity of the crossvalidation with Problem 1. "
   ]
  },
  {
   "cell_type": "code",
   "execution_count": 160,
   "metadata": {},
   "outputs": [
    {
     "name": "stdout",
     "output_type": "stream",
     "text": [
      "K=5\n"
     ]
    },
    {
     "name": "stderr",
     "output_type": "stream",
     "text": [
      "100%|██████████| 37498/37498 [00:01<00:00, 28156.96it/s]\n"
     ]
    },
    {
     "name": "stdout",
     "output_type": "stream",
     "text": [
      "validation accuracy:88.9813%\n"
     ]
    },
    {
     "name": "stderr",
     "output_type": "stream",
     "text": [
      "100%|██████████| 37498/37498 [00:01<00:00, 28814.03it/s]\n"
     ]
    },
    {
     "name": "stdout",
     "output_type": "stream",
     "text": [
      "validation accuracy:89.3973%\n"
     ]
    },
    {
     "name": "stderr",
     "output_type": "stream",
     "text": [
      "100%|██████████| 37498/37498 [00:01<00:00, 29026.90it/s]\n"
     ]
    },
    {
     "name": "stdout",
     "output_type": "stream",
     "text": [
      "validation accuracy:89.2693%\n"
     ]
    },
    {
     "name": "stderr",
     "output_type": "stream",
     "text": [
      "100%|██████████| 37499/37499 [00:01<00:00, 29063.88it/s]\n"
     ]
    },
    {
     "name": "stdout",
     "output_type": "stream",
     "text": [
      "validation accuracy:88.3721%\n"
     ]
    },
    {
     "name": "stderr",
     "output_type": "stream",
     "text": [
      "100%|██████████| 37499/37499 [00:01<00:00, 28625.47it/s]\n"
     ]
    },
    {
     "name": "stdout",
     "output_type": "stream",
     "text": [
      "validation accuracy:87.9881%\n"
     ]
    }
   ],
   "source": [
    "linearclass = LinearClassifier(learning_rate=1e-3)\n",
    "\n",
    "kf = KFold (n_splits=5) # K = 5\n",
    "print(\"K=5\")\n",
    "k5res = []\n",
    "for train_index, val_index in kf.split(train):\n",
    "    X_train, X_val = train[train_index], train[val_index]\n",
    "    y_train, y_val = train_label[train_index], train_label[val_index]\n",
    "    linearclass.fit(X_train, y_train)\n",
    "    predictions = [linearclass.predict(x) for x in X_val]\n",
    "    k5res.append([linearclass.predict(x) for x in test])\n",
    "    print(f\"validation accuracy:{round(accuracy_score(predictions, y_val) * 100, 4)}%\")\n"
   ]
  },
  {
   "cell_type": "code",
   "execution_count": 161,
   "metadata": {},
   "outputs": [
    {
     "name": "stdout",
     "output_type": "stream",
     "text": [
      "merge accuracy:92.8066%\n"
     ]
    },
    {
     "name": "stderr",
     "output_type": "stream",
     "text": [
      "100%|██████████| 46873/46873 [00:01<00:00, 29183.36it/s]"
     ]
    },
    {
     "name": "stdout",
     "output_type": "stream",
     "text": [
      "accuracy percentage:91.5266%\n"
     ]
    },
    {
     "name": "stderr",
     "output_type": "stream",
     "text": [
      "\n"
     ]
    }
   ],
   "source": [
    "def col_mode(col):\n",
    "    values, counts = np.unique(col, return_counts=True)\n",
    "    return values[np.argmax(counts)]\n",
    "\n",
    "# 使用 apply_along_axis 計算每一行眾數\n",
    "k5res_modes = np.apply_along_axis(col_mode, axis=0, arr=k5res)\n",
    "print(f\"merge accuracy:{round(accuracy_score(k5res_modes, test_label) * 100, 4)}%\")\n",
    "\n",
    "\n",
    "linearclass = LinearClassifier(learning_rate=1e-3)\n",
    "# 輸入訓練資料進行訓練\n",
    "linearclass.fit(train, train_label)\n",
    "# 利用切好的test資料進行預測\n",
    "predictions = [linearclass.predict(x) for x in test]\n",
    "print(f\"accuracy percentage:{round(accuracy_score(predictions, test_label) * 100, 4)}%\")"
   ]
  },
  {
   "cell_type": "markdown",
   "metadata": {},
   "source": [
    "### 3. How do we know the performance of one model is really better than another one? Please compare the result in 5-fold cross-validation and the result of Problem 1 to justify which is “REALLY” better. Also show me why."
   ]
  },
  {
   "cell_type": "markdown",
   "metadata": {},
   "source": [
    "利用前面5-fold的結果進行比較"
   ]
  }
 ],
 "metadata": {
  "kernelspec": {
   "display_name": "mlhomework",
   "language": "python",
   "name": "python3"
  },
  "language_info": {
   "codemirror_mode": {
    "name": "ipython",
    "version": 3
   },
   "file_extension": ".py",
   "mimetype": "text/x-python",
   "name": "python",
   "nbconvert_exporter": "python",
   "pygments_lexer": "ipython3",
   "version": "3.9.18"
  }
 },
 "nbformat": 4,
 "nbformat_minor": 2
}
